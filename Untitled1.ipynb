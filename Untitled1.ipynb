{
  "nbformat": 4,
  "nbformat_minor": 0,
  "metadata": {
    "colab": {
      "provenance": [],
      "authorship_tag": "ABX9TyOcPRksvdU+63ixqVrv7E7P",
      "include_colab_link": true
    },
    "kernelspec": {
      "name": "python3",
      "display_name": "Python 3"
    },
    "language_info": {
      "name": "python"
    }
  },
  "cells": [
    {
      "cell_type": "markdown",
      "metadata": {
        "id": "view-in-github",
        "colab_type": "text"
      },
      "source": [
        "<a href=\"https://colab.research.google.com/github/Snehalata21/capstoneproject1EDA/blob/main/Untitled1.ipynb\" target=\"_parent\"><img src=\"https://colab.research.google.com/assets/colab-badge.svg\" alt=\"Open In Colab\"/></a>"
      ]
    },
    {
      "cell_type": "code",
      "source": [
        "a=33\n",
        "b=2\n",
        "print(a/b)\n",
        "print(a//b)\n",
        "print(a%b)\n"
      ],
      "metadata": {
        "colab": {
          "base_uri": "https://localhost:8080/"
        },
        "id": "LbRNMJ9xpuNS",
        "outputId": "32ea2332-2626-4c53-a7f9-630093d3c811"
      },
      "execution_count": null,
      "outputs": [
        {
          "output_type": "stream",
          "name": "stdout",
          "text": [
            "16.5\n",
            "16\n",
            "1\n"
          ]
        }
      ]
    },
    {
      "cell_type": "code",
      "source": [
        "import re\n",
        "t=\"hello world\"\n",
        "p=\"wprld\"\n",
        "print(re.search(p,t))\n",
        "print(re.search(p,t))"
      ],
      "metadata": {
        "colab": {
          "base_uri": "https://localhost:8080/"
        },
        "id": "pqkJ-b-kGRkd",
        "outputId": "fb367517-6e24-45f3-e770-90a132342de2"
      },
      "execution_count": null,
      "outputs": [
        {
          "output_type": "stream",
          "name": "stdout",
          "text": [
            "None\n",
            "None\n"
          ]
        }
      ]
    },
    {
      "cell_type": "code",
      "source": [
        "fruits = [\"pineapple\", \"mango\", \"apple\"]\n",
        "for fruit in fruits:\n",
        "  print(fruit)"
      ],
      "metadata": {
        "colab": {
          "base_uri": "https://localhost:8080/"
        },
        "id": "DOvfwzGGBS5l",
        "outputId": "adef4b5a-75cc-4eb3-c873-b9e4c1c65173"
      },
      "execution_count": null,
      "outputs": [
        {
          "output_type": "stream",
          "name": "stdout",
          "text": [
            "pineapple\n",
            "mango\n",
            "apple\n"
          ]
        }
      ]
    },
    {
      "cell_type": "code",
      "source": [
        "for i in range(5):\n",
        "  if i==3:\n",
        "    continue\n",
        "  print(i)"
      ],
      "metadata": {
        "colab": {
          "base_uri": "https://localhost:8080/"
        },
        "id": "Y503aUlwAo2R",
        "outputId": "ba07a467-a02f-4dc8-d062-51aa86de95e3"
      },
      "execution_count": null,
      "outputs": [
        {
          "output_type": "stream",
          "name": "stdout",
          "text": [
            "0\n",
            "1\n",
            "2\n",
            "4\n"
          ]
        }
      ]
    },
    {
      "cell_type": "code",
      "source": [
        "class example:\n",
        "  pass\n",
        "print(type(example))"
      ],
      "metadata": {
        "colab": {
          "base_uri": "https://localhost:8080/"
        },
        "id": "p-7JFMF8Elt1",
        "outputId": "a42b2e6f-1216-48b8-cef4-ce25eef03ea8"
      },
      "execution_count": null,
      "outputs": [
        {
          "output_type": "stream",
          "name": "stdout",
          "text": [
            "<class 'type'>\n"
          ]
        }
      ]
    },
    {
      "cell_type": "code",
      "source": [
        "for i in range(1,10):\n",
        "  print(i)"
      ],
      "metadata": {
        "colab": {
          "base_uri": "https://localhost:8080/"
        },
        "id": "kPSBGAGfCJmB",
        "outputId": "394b361c-91d3-40f3-95d8-e050c79487aa"
      },
      "execution_count": null,
      "outputs": [
        {
          "output_type": "stream",
          "name": "stdout",
          "text": [
            "1\n",
            "2\n",
            "3\n",
            "4\n",
            "5\n",
            "6\n",
            "7\n",
            "8\n",
            "9\n"
          ]
        }
      ]
    },
    {
      "cell_type": "code",
      "source": [
        "from datetime import datetime\n",
        "print(datetime.now())"
      ],
      "metadata": {
        "colab": {
          "base_uri": "https://localhost:8080/"
        },
        "id": "Fs3ITKDLDcXJ",
        "outputId": "86b696fb-392f-41ce-8de7-0a7718d54ef3"
      },
      "execution_count": null,
      "outputs": [
        {
          "output_type": "stream",
          "name": "stdout",
          "text": [
            "2024-12-15 16:10:26.253547\n"
          ]
        }
      ]
    },
    {
      "cell_type": "code",
      "source": [
        "print(\"enter your choice 1 or 2\")\n",
        "choice=int(input())\n",
        "if choice==1:\n",
        "  print(\"enter your degree in fahrenheit\")\n",
        "  f=int(input())\n",
        "  def temp_converter(c):\n",
        "     c=(f+32)*(5/9)\n",
        "     return c\n",
        "  result=temp_converter(f)\n",
        "  print(result)\n",
        "else:\n",
        "  print(\"enter your degree in celcius\")\n",
        "  c=int(input())\n",
        "  def temp_converter(f):\n",
        "    f=c*(9/5)+32\n",
        "    return f\n",
        "  result=temp_converter(c)\n",
        "  print(result)"
      ],
      "metadata": {
        "colab": {
          "base_uri": "https://localhost:8080/"
        },
        "id": "lgfqC0TcUeAj",
        "outputId": "c46d44ce-bdda-4585-f649-46b465aa241c"
      },
      "execution_count": null,
      "outputs": [
        {
          "output_type": "stream",
          "name": "stdout",
          "text": [
            "enter your choice 1 or 2\n",
            "1\n",
            "enter your degree in fahrenheit\n",
            "32\n",
            "35.55555555555556\n"
          ]
        }
      ]
    },
    {
      "cell_type": "code",
      "source": [
        "def calculate_total_ticket_cost(no_of_adults, no_of_children):\n",
        "    adult_ticket_price = 37550\n",
        "    child_ticket_price =(adult_ticket_price/3)\n",
        "    service_tax=(adult_ticket_price+child_ticket_price)*0.07\n",
        "    total_cost = ((no_of_adults * adult_ticket_price) + (no_of_children * child_ticket_price)-service_tax)*0.10\n",
        "    return total_cost\n",
        "calculate_total_ticket_cost(5,2)\n"
      ],
      "metadata": {
        "colab": {
          "base_uri": "https://localhost:8080/"
        },
        "id": "d4HstaNKa6zD",
        "outputId": "b4eb4872-f74a-4b58-90ae-240d42289e84"
      },
      "execution_count": null,
      "outputs": [
        {
          "output_type": "execute_result",
          "data": {
            "text/plain": [
              "20927.86666666667"
            ]
          },
          "metadata": {},
          "execution_count": 28
        }
      ]
    },
    {
      "cell_type": "code",
      "source": [
        "r=int(input())\n",
        "area=3.14*r*r\n",
        "print(\"area of the circle is\",area)"
      ],
      "metadata": {
        "colab": {
          "base_uri": "https://localhost:8080/"
        },
        "id": "MGDy5f0QcE1B",
        "outputId": "81bd02a2-8224-4c1f-bb5c-69bc628e0647"
      },
      "execution_count": null,
      "outputs": [
        {
          "output_type": "stream",
          "name": "stdout",
          "text": [
            "10\n",
            "area of the circle is 314.0\n"
          ]
        }
      ]
    },
    {
      "cell_type": "code",
      "source": [
        "number=101\n",
        "reverse=0\n",
        "while(number!=0):\n",
        "  rem=number%10\n",
        "  reverse=reverse*10+rem\n",
        "if(temp==reverse):\n",
        "  temp=number\n",
        "  print(\"pallindrome\")\n",
        "else:\n",
        "  print(\"not pallindrome\")\n"
      ],
      "metadata": {
        "id": "ZD9fyveO7Dma"
      },
      "execution_count": null,
      "outputs": []
    },
    {
      "cell_type": "code",
      "source": [
        "print(\"enter your number\")\n",
        "number=int(input())\n",
        "def display(num):\n",
        "  if(num%3==0 and num%5==0):\n",
        "    print(\"zoom\")\n",
        "  elif(num%3==0):\n",
        "    print(\"zip\")\n",
        "  elif(num%5==0):\n",
        "    print(\"zap\")\n",
        "  else:\n",
        "    print(\"invalid\")\n",
        "message=display(number)\n"
      ],
      "metadata": {
        "colab": {
          "base_uri": "https://localhost:8080/"
        },
        "id": "GM7yLJgQuhJr",
        "outputId": "3b3a4dbb-80f7-493f-e1e8-94fea2d1bc10"
      },
      "execution_count": null,
      "outputs": [
        {
          "output_type": "stream",
          "name": "stdout",
          "text": [
            "enter your number\n",
            "15\n",
            "zoom\n"
          ]
        }
      ]
    },
    {
      "cell_type": "code",
      "source": [
        "def summation(num):\n",
        "  sum=0\n",
        "  for i in range(1,num+1):\n",
        "    sum=sum+i\n",
        "  return sum\n",
        "summation(5)"
      ],
      "metadata": {
        "colab": {
          "base_uri": "https://localhost:8080/"
        },
        "id": "lDYpoZ-wN3VZ",
        "outputId": "30c83f5e-aa0a-4183-d68c-7a8796232670"
      },
      "execution_count": null,
      "outputs": [
        {
          "output_type": "execute_result",
          "data": {
            "text/plain": [
              "15"
            ]
          },
          "metadata": {},
          "execution_count": 1
        }
      ]
    },
    {
      "cell_type": "code",
      "source": [
        "def find_product(num1,num2,num3):\n",
        "  num_list=[num1,num2,num3]\n",
        "  product=1\n",
        "  for num in num_list:\n",
        "    if(num==7):\n",
        "      product=1\n",
        "    else:\n",
        "      product=product*num\n",
        "  if(num3==7):\n",
        "    return -1\n",
        "  else:\n",
        "    return product\n",
        "num1=int(input(\"enter the num1:\"))\n",
        "num2=int(input(\"enter the num2:\"))\n",
        "num3=int(input(\"enter the num3:\"))\n",
        "print(find_product(num1,num2,num3))\n",
        "\n"
      ],
      "metadata": {
        "colab": {
          "base_uri": "https://localhost:8080/"
        },
        "id": "W5R-3BkVRUs9",
        "outputId": "00fb238b-7d1a-428c-b033-0a8ec74f9318"
      },
      "execution_count": null,
      "outputs": [
        {
          "output_type": "stream",
          "name": "stdout",
          "text": [
            "enter the num1:7\n",
            "enter the num2:7\n",
            "enter the num3:6\n",
            "6\n"
          ]
        }
      ]
    },
    {
      "cell_type": "code",
      "source": [
        "def form_triangle(num1,num2,num3):\n",
        "  if(num1+num2>num3 and num1+num3>num2 and num2+num3>num1):\n",
        "    print(\"triangle can be formed\")\n",
        "  else:\n",
        "    print(\"triangle can not be formed\")\n",
        "print(\"enter your numbers:\")\n",
        "num1=int(input())\n",
        "num2=int(input())\n",
        "num3=int(input())\n",
        "form_triangle(num1,num2,num3)"
      ],
      "metadata": {
        "colab": {
          "base_uri": "https://localhost:8080/"
        },
        "id": "iB1-7pUkR6Xg",
        "outputId": "53f8e4d7-2d9a-43f9-f3fc-2836c9adbcc2"
      },
      "execution_count": null,
      "outputs": [
        {
          "output_type": "stream",
          "name": "stdout",
          "text": [
            "enter your numbers:\n",
            "2\n",
            "3\n",
            "4\n",
            "triangle can be formed\n"
          ]
        }
      ]
    },
    {
      "cell_type": "code",
      "source": [
        "def make_amount(rupees_to_make,no_of_fives,no_of_one):\n",
        "  five_needed=0\n",
        "  one_needed=0\n",
        "  total_amount=no_of_fives*5+no_of_one\n",
        "  if(total_amount>=rupees_to_make):\n",
        "    one_needed=total_amount-rupees_to_make\n",
        "    print(\"Rs 1 coin needed=\",one_needed)\n",
        "    five_needed=(rupees_to_make-one_needed)//5\n",
        "    print(\"Rs 5 notes needed=\",five_needed)\n",
        "  else:\n",
        "    print(\"-1\")\n",
        "  return five_needed,one_needed\n",
        "make_amount(11,2,11)\n"
      ],
      "metadata": {
        "colab": {
          "base_uri": "https://localhost:8080/"
        },
        "id": "dY4ZujMrUkBE",
        "outputId": "e7445033-4842-4a29-e4d5-070cb4e96161"
      },
      "execution_count": null,
      "outputs": [
        {
          "output_type": "stream",
          "name": "stdout",
          "text": [
            "Rs 1 coin needed= 10\n",
            "Rs 5 notes needed= 0\n"
          ]
        },
        {
          "output_type": "execute_result",
          "data": {
            "text/plain": [
              "(0, 10)"
            ]
          },
          "metadata": {},
          "execution_count": 36
        }
      ]
    },
    {
      "cell_type": "code",
      "source": [
        "def selectionsort(list):\n",
        "  for i in range(len(list)-1):\n",
        "    for j in range(i+1,len(list)):\n",
        "      if(list[i]>list[j]):\n",
        "        list[i],list[j]=list[j],list[i]\n",
        "  return list\n",
        "list=[23,3,56,7,90,25,0,8]\n",
        "print(selectionsort(list))"
      ],
      "metadata": {
        "colab": {
          "base_uri": "https://localhost:8080/"
        },
        "id": "AG0ZzpX1Wy6W",
        "outputId": "c16af6b7-453a-421c-9bf3-138cc958e648"
      },
      "execution_count": null,
      "outputs": [
        {
          "output_type": "stream",
          "name": "stdout",
          "text": [
            "[0, 3, 7, 8, 23, 25, 56, 90]\n"
          ]
        }
      ]
    },
    {
      "cell_type": "code",
      "source": [
        "def bubblesort(list):\n",
        "  for i in range(len(list)):\n",
        "    for j in range(len(list)-1):\n",
        "      if(list[i]>list[j]):\n",
        "        list[j],list[i]=list[i],list[j]\n",
        "  return list\n",
        "list=[23,3,56,7,90,25,0,8]\n",
        "print(bubblesort(list))"
      ],
      "metadata": {
        "colab": {
          "base_uri": "https://localhost:8080/"
        },
        "id": "fsjIk1w5cstZ",
        "outputId": "a28884ad-17f6-487c-f80a-e3ba6de6dee4"
      },
      "execution_count": null,
      "outputs": [
        {
          "output_type": "stream",
          "name": "stdout",
          "text": [
            "[90, 56, 25, 23, 8, 7, 3, 0]\n"
          ]
        }
      ]
    },
    {
      "cell_type": "code",
      "source": [
        "def bubblesort(list):\n",
        "  for i in range(len(list)):\n",
        "    for j in range(len(list)-1-i):\n",
        "      if(list[j]>list[j+1]):\n",
        "        t=list[j]\n",
        "        list[j]=list[j+1]\n",
        "        list[j+1]=t\n",
        "  return list\n",
        "list=[23,3,56,7,90,25,0,8]\n",
        "print(bubblesort(list))"
      ],
      "metadata": {
        "colab": {
          "base_uri": "https://localhost:8080/"
        },
        "id": "R-YcG6rDfPWE",
        "outputId": "fa4fe863-75d3-44f3-cb4e-cbd806cdd1e2"
      },
      "execution_count": null,
      "outputs": [
        {
          "output_type": "stream",
          "name": "stdout",
          "text": [
            "[0, 3, 7, 8, 23, 25, 56, 90]\n"
          ]
        }
      ]
    },
    {
      "cell_type": "code",
      "source": [
        "def mergesort(list):\n",
        "  if len(list)>1:\n",
        "    mid=len(list)//2\n",
        "    left=list[:mid]\n",
        "    right=list[mid:]\n",
        "    mergesort(left)\n",
        "    mergesort(right)\n",
        "    i=j=k=0\n",
        "    while i<len(left) and j<len(right):\n",
        "      if left[i]<right[j]:\n",
        "        list[k]=left[i]\n",
        "        i=i+1\n",
        "      else:\n",
        "        list[k]=right[j]\n",
        "        j=j+1\n",
        "      k+=1\n",
        "    while i<len(left):\n",
        "      list[k]=left[i]\n",
        "      i=i+1\n",
        "      k=k+1\n",
        "    while j<len(right):\n",
        "      list[k]=right[j]\n",
        "      j=j+1\n",
        "      k=k+1\n",
        "  return list\n",
        "list=[23,3,56,7,90,25,0,8]\n",
        "print(mergesort(list))"
      ],
      "metadata": {
        "colab": {
          "base_uri": "https://localhost:8080/"
        },
        "id": "nlndLuqnqC6_",
        "outputId": "66a060ae-bffc-4040-e961-a933fedb0e0e"
      },
      "execution_count": null,
      "outputs": [
        {
          "output_type": "stream",
          "name": "stdout",
          "text": [
            "[0, 3, 7, 8, 23, 25, 56, 90]\n"
          ]
        }
      ]
    },
    {
      "cell_type": "code",
      "source": [
        "def binarysearch(lys,val):\n",
        "  first=0\n",
        "  last=len(lys)-1\n",
        "  index=-1\n",
        "  while(first<=last) and (index==-1):\n",
        "    mid=(first+last)//2\n",
        "    if lys[mid]==val:\n",
        "      index=mid\n",
        "    else:\n",
        "      if val<lys[mid]:\n",
        "        last=mid-1\n",
        "      else:\n",
        "        first=mid+1\n",
        "  return index\n",
        "binarysearch([10,20,30,40,50],20)\n",
        "binarysearch([1,2,3,4,4,5],4)\n"
      ],
      "metadata": {
        "colab": {
          "base_uri": "https://localhost:8080/"
        },
        "id": "WbPWqBlewF3u",
        "outputId": "5309af0e-3c73-454e-8801-87cc89676e44"
      },
      "execution_count": null,
      "outputs": [
        {
          "output_type": "execute_result",
          "data": {
            "text/plain": [
              "4"
            ]
          },
          "metadata": {},
          "execution_count": 26
        }
      ]
    },
    {
      "cell_type": "code",
      "source": [
        "list=[1,2,2,3,4,4,4,4,2,2]\n",
        "count =0\n",
        "for i in range(len(list)-1):\n",
        " if list[i]==list[i+1]:\n",
        "   count=count+1\n",
        "print(count)\n"
      ],
      "metadata": {
        "colab": {
          "base_uri": "https://localhost:8080/"
        },
        "id": "Pvybk-YWUH88",
        "outputId": "1b364863-ff7b-4330-b7d0-a5a5655f36dc"
      },
      "execution_count": null,
      "outputs": [
        {
          "output_type": "stream",
          "name": "stdout",
          "text": [
            "5\n"
          ]
        }
      ]
    },
    {
      "cell_type": "code",
      "source": [
        "airline = \"ai\"\n",
        "source = \"bangalore\"\n",
        "destination = \"london\"\n",
        "no_of_passenger = int(input(\"Enter passenger number: \"))\n",
        "if no_of_passenger >= 5 and no_of_passenger <= 10:\n",
        "    for i in range(no_of_passenger - 5, no_of_passenger):\n",
        "        ticket_number = airline + \":\" + source[:3] + \":\" + destination[:3] + \":\" + str(101 + i)\n",
        "        print(ticket_number)\n",
        "elif no_of_passenger < 5:\n",
        "    for i in range(no_of_passenger):\n",
        "        ticket_number = airline + \":\" + source[:3] + \":\" + destination[:3] + \":\" + str(101 + i)\n",
        "        print(ticket_number)\n",
        "else:\n",
        "    print(\"Invalid\")"
      ],
      "metadata": {
        "colab": {
          "base_uri": "https://localhost:8080/"
        },
        "id": "HCIxqKWg3osN",
        "outputId": "3757d903-0b2d-448d-8a5a-c8990526945b"
      },
      "execution_count": null,
      "outputs": [
        {
          "output_type": "stream",
          "name": "stdout",
          "text": [
            "Enter passenger number: 4\n",
            "ai:ban:lon:101\n",
            "ai:ban:lon:102\n",
            "ai:ban:lon:103\n",
            "ai:ban:lon:104\n"
          ]
        }
      ]
    },
    {
      "cell_type": "code",
      "source": [
        "def count_names(name_list):\n",
        "  count1=0\n",
        "  count2=0\n",
        "  for names in name_list:\n",
        "    count2=count2+names.count(\"at\")\n",
        "    if len(names)>=2 and names[-2:]==\"at\":\n",
        "      count1=count1+1\n",
        "  print(\"at\",count1)\n",
        "  print(\"%a%\",count2)\n",
        "names = [\"cat\", \"hat\", \"rabbit\", \"matter\"]\n",
        "count_names(names)\n"
      ],
      "metadata": {
        "colab": {
          "base_uri": "https://localhost:8080/"
        },
        "id": "br3Mdh78CSV9",
        "outputId": "35d8c77a-1e03-493f-c871-67a2c035665c"
      },
      "execution_count": null,
      "outputs": [
        {
          "output_type": "stream",
          "name": "stdout",
          "text": [
            "at 2\n",
            "%a% 3\n"
          ]
        }
      ]
    },
    {
      "cell_type": "code",
      "source": [
        "i=1\n",
        "n=10\n",
        "while(i<=n):\n",
        "  if(i%2==0):\n",
        "    print(i)\n",
        "    i+=1\n",
        "  else:\n",
        "    i+=1\n",
        "    continue\n",
        "    print(\"odd\")\n"
      ],
      "metadata": {
        "colab": {
          "base_uri": "https://localhost:8080/"
        },
        "id": "HgwAoAorfwhw",
        "outputId": "b95327c0-a308-4c0b-875a-b4bc3dccdf77"
      },
      "execution_count": null,
      "outputs": [
        {
          "output_type": "stream",
          "name": "stdout",
          "text": [
            "2\n",
            "4\n",
            "6\n",
            "8\n",
            "10\n"
          ]
        }
      ]
    },
    {
      "cell_type": "code",
      "source": [
        "def counting_leap_years(year):\n",
        "  count=0\n",
        "  for i in range(1,15):\n",
        "    if(year%4==0 and year%100!=0 or year%400==0):\n",
        "      print(year)\n",
        "    year=year+4\n",
        "counting_leap_years(1800)"
      ],
      "metadata": {
        "colab": {
          "base_uri": "https://localhost:8080/"
        },
        "id": "BaFqqcXolPgH",
        "outputId": "6ef4e648-7176-4070-95b0-759161da6f98"
      },
      "execution_count": null,
      "outputs": [
        {
          "output_type": "stream",
          "name": "stdout",
          "text": [
            "1804\n",
            "1808\n",
            "1812\n",
            "1816\n",
            "1820\n",
            "1824\n",
            "1828\n",
            "1832\n",
            "1836\n",
            "1840\n",
            "1844\n",
            "1848\n",
            "1852\n"
          ]
        }
      ]
    },
    {
      "cell_type": "code",
      "source": [
        "def calculate_bill_amount(gems_list,price_list,reqd_gems,reqd_quantity):\n",
        "  bill_amount=0\n",
        "  total_bill=0\n",
        "  for i in range(len(reqd_gems)):\n",
        "    for j in range(len(gems_list)):\n",
        "      if reqd_gems[i]==gems_list[j]:\n",
        "        bill_amount=bill_amount+reqd_quantity[i]*price_list[j]\n",
        "        print(bill_amount)\n",
        "  if total_bill>30000:\n",
        "      total_bill=total_bill-total_bill*0.05\n",
        "      print(total_bill)\n",
        "  else:\n",
        "      bill_amount=-1\n",
        "\n",
        "  return bill_amount\n",
        "games_list=[\"emerland\",\"ivory\",\"jasper\",\"ruby\",\"garnet\"]\n",
        "price_list=[17600,21190,15900,39200,39990]\n",
        "reqd_gems=[\"ivory\",\"garnet\",\"ruby\"]\n",
        "\n",
        "reqd_quantity=[2,1,3]\n",
        "bill_amount=calculate_bill_amount(games_list,price_list,reqd_gems,reqd_quantity)\n",
        "print((2*21190+39990+3*39200)-((2*21190+39990+3*39200)*0.05))\n",
        "\n"
      ],
      "metadata": {
        "colab": {
          "base_uri": "https://localhost:8080/"
        },
        "id": "VUPUL_ywrESq",
        "outputId": "cff48a5b-99c3-41af-a732-8b013a43db6c"
      },
      "execution_count": null,
      "outputs": [
        {
          "output_type": "stream",
          "name": "stdout",
          "text": [
            "42380\n",
            "82370\n",
            "199970\n",
            "189971.5\n"
          ]
        }
      ]
    },
    {
      "cell_type": "code",
      "source": [
        "my_list=input(\"enter your numbers\").split()\n",
        "my_list.sort(reverse=True)\n",
        "for i in range(len(my_list)):\n",
        "  print(my_list[i],end='')\n",
        "\n"
      ],
      "metadata": {
        "colab": {
          "base_uri": "https://localhost:8080/"
        },
        "id": "whTWUlVO4S6o",
        "outputId": "579efb80-3201-4c26-f7a3-efe95c07132f"
      },
      "execution_count": null,
      "outputs": [
        {
          "output_type": "stream",
          "name": "stdout",
          "text": [
            "enter your numbers22 55 13  33\n",
            "55332213"
          ]
        }
      ]
    },
    {
      "cell_type": "code",
      "source": [
        "def ispallindrome(number):\n",
        "  temp=number\n",
        "  reverse=0\n",
        "  while((number)!=0):\n",
        "    rem=number%10\n",
        "    reverse=reverse*10+rem\n",
        "    number=number//10\n",
        "  if(temp==reverse):\n",
        "    return True\n",
        "  else:\n",
        "    return False\n",
        "status=ispallindrome(121)\n",
        "if(status):\n",
        "  print(\"pallindrome\")\n",
        "else:\n",
        "  print(\"not pallindrome\")"
      ],
      "metadata": {
        "colab": {
          "base_uri": "https://localhost:8080/"
        },
        "id": "Ubz3YCkdZzZP",
        "outputId": "1175e5d4-2fff-4b6e-f259-aef3fad09a58"
      },
      "execution_count": null,
      "outputs": [
        {
          "output_type": "stream",
          "name": "stdout",
          "text": [
            "pallindrome\n"
          ]
        }
      ]
    },
    {
      "cell_type": "code",
      "source": [
        "def translate(bilingual_dict,english_words_list):\n",
        "  swedish_words_list=[]\n",
        "  for i in english_words_list:\n",
        "    bilingual_dict[i]\n",
        "    swedish_words_list.append(bilingual_dict[i])\n",
        "  return swedish_words_list\n",
        "bilingual_dict={\"merry\":\"god\", \"christmas\":\"jul\", \"and\":\"och\", \"happy\":\"gott\", \"new\":\"nytt\", \"year\":\"ar\"}\n",
        "english_words_list=[\"merry\",\"and\",\"christmas\"]\n",
        "print(\"The bilingual dict is:\",bilingual_dict)\n",
        "print(\"The english words are:\",english_words_list)\n",
        "swedish_words_list=translate(bilingual_dict,english_words_list)\n",
        "print(\"The equivalent swedish words are:\",swedish_words_list)"
      ],
      "metadata": {
        "colab": {
          "base_uri": "https://localhost:8080/"
        },
        "id": "w6htCt2xeDl0",
        "outputId": "4239e75e-ca04-4c43-f979-1e1c4b37d90b"
      },
      "execution_count": null,
      "outputs": [
        {
          "output_type": "stream",
          "name": "stdout",
          "text": [
            "The bilingual dict is: {'merry': 'god', 'christmas': 'jul', 'and': 'och', 'happy': 'gott', 'new': 'nytt', 'year': 'ar'}\n",
            "The english words are: ['merry', 'and', 'christmas']\n",
            "The equivalent swedish words are: ['god', 'och', 'jul']\n"
          ]
        }
      ]
    },
    {
      "cell_type": "code",
      "source": [
        "def find_number_of_combination(number_of_flavours):\n",
        "    total_combination = 2**number_of_flavours\n",
        "    return total_combination\n",
        "number_of_combination=find_number_of_combination(3)\n",
        "print(number_of_combination)"
      ],
      "metadata": {
        "colab": {
          "base_uri": "https://localhost:8080/"
        },
        "id": "f9iV_rWllGNM",
        "outputId": "4c54c7d5-c75f-4cd6-bf89-b225ea9c8c13"
      },
      "execution_count": null,
      "outputs": [
        {
          "output_type": "stream",
          "name": "stdout",
          "text": [
            "8\n"
          ]
        }
      ]
    },
    {
      "cell_type": "code",
      "source": [
        "string1 = \"i like python\"\n",
        "string2 = \"java is a very popular language\"\n",
        "\n",
        "def find_common_charcter(string1, string2):\n",
        "  common_chars = ''.join(set(string1).intersection(set(string2)))\n",
        "  if \" \" in common_chars:\n",
        "     common_chars=common_chars.replace(\" \",\"\")\n",
        "  elif string1.upper() in string1 and string2.lower() in string2:\n",
        "      return -1\n",
        "  else:\n",
        "    return -1\n",
        "  return common_chars\n",
        "\n",
        "print(find_common_charcter(string1, string2))"
      ],
      "metadata": {
        "colab": {
          "base_uri": "https://localhost:8080/"
        },
        "id": "DCtZsw6hyLYj",
        "outputId": "8a085758-a208-4818-b335-0fc9b70f9c10"
      },
      "execution_count": null,
      "outputs": [
        {
          "output_type": "stream",
          "name": "stdout",
          "text": [
            "ynoiepl\n"
          ]
        }
      ]
    },
    {
      "cell_type": "code",
      "source": [
        "def encrypt_sentence(sentence):\n",
        "    vowel_set = set(\"aeiouAEIOU\")\n",
        "    final_list = []\n",
        "    words = sentence.split()\n",
        "\n",
        "    for i in range(len(words)):\n",
        "        if i % 2 == 0:\n",
        "            final_list.append(words[i][::-1])\n",
        "        else:\n",
        "            consonants = ''.join([c for c in words[i] if c not in vowel_set])\n",
        "            vowels = ''.join([c for c in words[i] if c in vowel_set])\n",
        "            final_list.append(consonants + vowels)\n",
        "\n",
        "    encrypted_sentence = \" \".join(final_list)\n",
        "    print(encrypted_sentence)\n",
        "\n",
        "encrypt_sentence(\"the sun rises in the east\")"
      ],
      "metadata": {
        "colab": {
          "base_uri": "https://localhost:8080/"
        },
        "id": "KOH1Ma3AKW4z",
        "outputId": "3018f3aa-c0e1-4ff3-c660-52d4b59ccc5c"
      },
      "execution_count": null,
      "outputs": [
        {
          "output_type": "stream",
          "name": "stdout",
          "text": [
            "eht snu sesir ni eht stea\n"
          ]
        }
      ]
    },
    {
      "cell_type": "code",
      "source": [
        "def change_number(num):\n",
        "  num+=10\n",
        "  return num\n",
        "num=20\n",
        "print(change_number(num))\n",
        "print(num)"
      ],
      "metadata": {
        "colab": {
          "base_uri": "https://localhost:8080/"
        },
        "id": "evUd1PTWCk6-",
        "outputId": "30f62e90-4f9b-4ade-a8e9-26b6beba3e9b"
      },
      "execution_count": null,
      "outputs": [
        {
          "output_type": "stream",
          "name": "stdout",
          "text": [
            "30\n",
            "20\n"
          ]
        }
      ]
    },
    {
      "cell_type": "code",
      "source": [
        "def changelist(num_list):\n",
        "  num_list.append(20)\n",
        "  print(num_list)\n",
        "num_list=[10,30,40,50]\n",
        "changelist(num_list)\n",
        "print(num_list)\n"
      ],
      "metadata": {
        "colab": {
          "base_uri": "https://localhost:8080/"
        },
        "id": "o8x3y6e1C18p",
        "outputId": "7ef7e210-a4b7-43a6-a6ed-c3eabf29b6b9"
      },
      "execution_count": null,
      "outputs": [
        {
          "output_type": "stream",
          "name": "stdout",
          "text": [
            "[10, 30, 40, 50, 20]\n",
            "[10, 30, 40, 50, 20]\n"
          ]
        }
      ]
    },
    {
      "cell_type": "code",
      "source": [
        "wt_limit=30\n",
        "def baggage_check(baggage_wt):\n",
        "  extra_baggage_charge=0\n",
        "  if not(baggage_wt>=0 and baggage_wt<=wt_limit):\n",
        "    extra_baggage=(baggage_wt-wt_limit)\n",
        "    extra_baggage_charge=extra_baggage*100\n",
        "  return extra_baggage_charge\n",
        "\n",
        "def update_baggage_limit(new_wt_limit):\n",
        "  global wt_limit\n",
        "  wt_limit=new_wt_limit\n",
        "  print(\"this airline now allows baggage with a weight limit of\",wt_limit,\"kgs\")\n",
        "\n",
        "def useless_function_to_prove_a_point():\n",
        "  print(\"extra baggage:\",extra_baggage)\n",
        "  print(\"extra baggage charge:\",extra_baggage_charge)\n",
        "\n",
        "print(\"this airline allows baggage limit till\",wt_limit,\"kgs\")\n",
        "print(\"pay the extra baggage charge of\", baggage_check(35),\"rupees\")\n",
        "print(\"extra baggage:\",extra_baggage)\n",
        "print(\"extra baggage charge:\",extra_baggage_charge)\n",
        "update_baggage_limit(45)\n",
        "print(\"pay the extra baggage charge of\", baggage_check(35),\"rupees\")\n",
        "useless_function_to_prove_a_point\n",
        "\n",
        "\n"
      ],
      "metadata": {
        "colab": {
          "base_uri": "https://localhost:8080/",
          "height": 245
        },
        "id": "1KQYNn3mK_fS",
        "outputId": "c19a989f-676d-41ef-c4c9-a5c06355b171"
      },
      "execution_count": null,
      "outputs": [
        {
          "output_type": "stream",
          "name": "stdout",
          "text": [
            "this airline allows baggage limit till 30 kgs\n",
            "pay the extra baggage charge of 500 rupees\n"
          ]
        },
        {
          "output_type": "error",
          "ename": "NameError",
          "evalue": "name 'extra_baggage' is not defined",
          "traceback": [
            "\u001b[0;31m---------------------------------------------------------------------------\u001b[0m",
            "\u001b[0;31mNameError\u001b[0m                                 Traceback (most recent call last)",
            "\u001b[0;32m<ipython-input-86-9cb2e3b04a4c>\u001b[0m in \u001b[0;36m<cell line: 20>\u001b[0;34m()\u001b[0m\n\u001b[1;32m     18\u001b[0m \u001b[0mprint\u001b[0m\u001b[0;34m(\u001b[0m\u001b[0;34m\"this airline allows baggage limit till\"\u001b[0m\u001b[0;34m,\u001b[0m\u001b[0mwt_limit\u001b[0m\u001b[0;34m,\u001b[0m\u001b[0;34m\"kgs\"\u001b[0m\u001b[0;34m)\u001b[0m\u001b[0;34m\u001b[0m\u001b[0;34m\u001b[0m\u001b[0m\n\u001b[1;32m     19\u001b[0m \u001b[0mprint\u001b[0m\u001b[0;34m(\u001b[0m\u001b[0;34m\"pay the extra baggage charge of\"\u001b[0m\u001b[0;34m,\u001b[0m \u001b[0mbaggage_check\u001b[0m\u001b[0;34m(\u001b[0m\u001b[0;36m35\u001b[0m\u001b[0;34m)\u001b[0m\u001b[0;34m,\u001b[0m\u001b[0;34m\"rupees\"\u001b[0m\u001b[0;34m)\u001b[0m\u001b[0;34m\u001b[0m\u001b[0;34m\u001b[0m\u001b[0m\n\u001b[0;32m---> 20\u001b[0;31m \u001b[0mprint\u001b[0m\u001b[0;34m(\u001b[0m\u001b[0;34m\"extra baggage:\"\u001b[0m\u001b[0;34m,\u001b[0m\u001b[0mextra_baggage\u001b[0m\u001b[0;34m)\u001b[0m\u001b[0;34m\u001b[0m\u001b[0;34m\u001b[0m\u001b[0m\n\u001b[0m\u001b[1;32m     21\u001b[0m \u001b[0mprint\u001b[0m\u001b[0;34m(\u001b[0m\u001b[0;34m\"extra baggage charge:\"\u001b[0m\u001b[0;34m,\u001b[0m\u001b[0mextra_baggage_charge\u001b[0m\u001b[0;34m)\u001b[0m\u001b[0;34m\u001b[0m\u001b[0;34m\u001b[0m\u001b[0m\n\u001b[1;32m     22\u001b[0m \u001b[0mupdate_baggage_limit\u001b[0m\u001b[0;34m(\u001b[0m\u001b[0;36m45\u001b[0m\u001b[0;34m)\u001b[0m\u001b[0;34m\u001b[0m\u001b[0;34m\u001b[0m\u001b[0m\n",
            "\u001b[0;31mNameError\u001b[0m: name 'extra_baggage' is not defined"
          ]
        }
      ]
    },
    {
      "cell_type": "code",
      "source": [
        "def factorial(num):\n",
        "  fact=1\n",
        "  for i in range(1,num+1):\n",
        "    fact=fact*i\n",
        "  return fact\n",
        "def find_strong_number(number):\n",
        "  num_str = str(number)\n",
        "  total_sum = 0\n",
        "  for digit_char in num_str:\n",
        "    digit = int(digit_char)\n",
        "    total_sum += factorial(digit)\n",
        "\n",
        "  if total_sum == number:\n",
        "    print(\"The number is a strong number\")\n",
        "  else:\n",
        "    print(\"The number is not a strong number\")\n",
        "\n",
        "find_strong_number(34)"
      ],
      "metadata": {
        "colab": {
          "base_uri": "https://localhost:8080/"
        },
        "id": "oCRVb2BhbBKS",
        "outputId": "1823f14e-5a79-4281-baad-123ff471bec5"
      },
      "execution_count": null,
      "outputs": [
        {
          "output_type": "stream",
          "name": "stdout",
          "text": [
            "The number is not a strong number\n"
          ]
        }
      ]
    },
    {
      "cell_type": "code",
      "source": [
        "def find_pairs_of_numbers(num_list,n):\n",
        "  pairs_count=0\n",
        "  for i in range(len(num_list)):\n",
        "    for j in range(i+1,len(num_list)):\n",
        "      if num_list[i]+num_list[j]==n:\n",
        "        pairs_count+=1\n",
        "  return pairs_count\n",
        "\n",
        "num_list=[1,2,7,4,5,6,0,3]\n",
        "n=6\n",
        "print(find_pairs_of_numbers(num_list,n))\n",
        "num_list=[3,4,1,8,5,9,0,6]\n",
        "n=9\n",
        "print(find_pairs_of_numbers(num_list,n))\n"
      ],
      "metadata": {
        "colab": {
          "base_uri": "https://localhost:8080/"
        },
        "id": "mJas8wYLf1Os",
        "outputId": "8782c21a-ac66-43fb-b380-aa379e9b4d8f"
      },
      "execution_count": null,
      "outputs": [
        {
          "output_type": "stream",
          "name": "stdout",
          "text": [
            "3\n",
            "4\n"
          ]
        }
      ]
    },
    {
      "cell_type": "code",
      "source": [
        "def sum_of_numbers(list_of_num,filter_func=None):\n",
        "  lst1=[]\n",
        "  lst2=[]\n",
        "  if filter_func==None:\n",
        "    lst2=[]\n",
        "  else:\n",
        "    lst2=filter_func(list_of_num)\n",
        "  for i in list_of_num:\n",
        "    if i not in lst2:\n",
        "      lst1.append(i)\n",
        "  return lst1\n",
        "def even(data):\n",
        "  even_list=[]\n",
        "  for i in data:\n",
        "    if i%2==0:\n",
        "      even_list.append(i)\n",
        "  return even_list\n",
        "def odd(data):\n",
        "  odd_list=[]\n",
        "  for i in data:\n",
        "    if i%2!=0:\n",
        "      odd_list.append(i)\n",
        "  return odd_list\n",
        "sample_data=[1,2,3,4,5,6,7,8,9]\n",
        "print(sum_of_numbers(sample_data))\n",
        "print(sum_of_numbers(sample_data,even))\n",
        "print(sum_of_numbers(sample_data,odd))"
      ],
      "metadata": {
        "id": "VqCEBu3p-Z_L",
        "colab": {
          "base_uri": "https://localhost:8080/"
        },
        "outputId": "3bb45160-6614-4e75-c506-ba82b62b01c1"
      },
      "execution_count": null,
      "outputs": [
        {
          "output_type": "stream",
          "name": "stdout",
          "text": [
            "[1, 2, 3, 4, 5, 6, 7, 8, 9]\n",
            "[1, 3, 5, 7, 9]\n",
            "[2, 4, 6, 8]\n"
          ]
        }
      ]
    },
    {
      "cell_type": "code",
      "source": [
        "def check_double(number):\n",
        "    double = number * 2\n",
        "    number_str = str(number)\n",
        "    double_str = str(double)\n",
        "\n",
        "    if sorted(number_str) == sorted(double_str):\n",
        "        return True\n",
        "    else:\n",
        "        return False\n",
        "print(check_double(125))"
      ],
      "metadata": {
        "colab": {
          "base_uri": "https://localhost:8080/"
        },
        "id": "rOmTS9ajDhmQ",
        "outputId": "82cec573-ed67-4ad5-a9d9-b0a09eef742a"
      },
      "execution_count": null,
      "outputs": [
        {
          "output_type": "stream",
          "name": "stdout",
          "text": [
            "False\n"
          ]
        }
      ]
    },
    {
      "cell_type": "code",
      "source": [
        "def calculate(distance,no_of_passengers):\n",
        "  price_per_litre=70\n",
        "  litre_per_km=10\n",
        "  total_litre=distance*litre_per_km\n",
        "  total_amount=total_litre*price_per_litre\n",
        "  price_per_ticket=80\n",
        "  total_ticketamount=no_of_passengers*price_per_ticket\n",
        "\n",
        "  if total_ticketamount>total_amount:\n",
        "    profit=total_ticketamount-total_amount\n",
        "    print(\"profit is\",profit)\n",
        "  elif total_ticketamount<total_amount:\n",
        "    loss=total_amount-total_ticketamount\n",
        "    print(\"loss is\",loss)\n",
        "  else:\n",
        "    print(\"-1\")\n",
        "distance=int(input(\"enter the distance\"))\n",
        "no_of_passengers=int(input(\"enter the no of passengers\"))\n",
        "calculate(distance,no_of_passengers)"
      ],
      "metadata": {
        "colab": {
          "base_uri": "https://localhost:8080/"
        },
        "id": "R-zNLwbHDlxd",
        "outputId": "8f0e8df3-9d04-4164-824b-afefab2221cd"
      },
      "execution_count": null,
      "outputs": [
        {
          "output_type": "stream",
          "name": "stdout",
          "text": [
            "enter the distance20\n",
            "enter the no of passengers50\n",
            "loss is 10000\n"
          ]
        }
      ]
    },
    {
      "cell_type": "code",
      "source": [
        "list_of_marks=(12,18,25,24,2,5,18,20,20,21)\n",
        "avg_marks=sum(list_of_marks)/len(list_of_marks)\n",
        "def find_more_than_average():\n",
        "  for i in range(len(list_of_marks)):\n",
        "    if(list_of_marks[i]>=avg_marks):\n",
        "      print(list_of_marks[i])\n",
        "\n",
        "def sort_marks():\n",
        "  global list_of_marks\n",
        "  list_of_marks=sorted(list_of_marks)\n",
        "  return(list_of_marks)\n",
        "\n",
        "\n",
        "def generate_frequency():\n",
        "  frequency={}\n",
        "  for i in list_of_marks:\n",
        "    if i in frequency:\n",
        "      frequency[i]+=1\n",
        "    else:\n",
        "      frequency[i]=1\n",
        "  return frequency\n",
        "\n",
        "\n",
        "find_more_than_average()\n",
        "print(generate_frequency())\n",
        "print(sort_marks())"
      ],
      "metadata": {
        "colab": {
          "base_uri": "https://localhost:8080/"
        },
        "id": "5VsY71dpGV2B",
        "outputId": "179c1306-cdde-4729-c654-628f528b52bb"
      },
      "execution_count": null,
      "outputs": [
        {
          "output_type": "stream",
          "name": "stdout",
          "text": [
            "18\n",
            "25\n",
            "24\n",
            "18\n",
            "20\n",
            "20\n",
            "21\n",
            "{12: 1, 18: 2, 25: 1, 24: 1, 2: 1, 5: 1, 20: 2, 21: 1}\n",
            "[2, 5, 12, 18, 18, 20, 20, 21, 24, 25]\n"
          ]
        }
      ]
    },
    {
      "cell_type": "code",
      "source": [
        "correct=0\n",
        "def find_correct(word_dict):\n",
        "  for key,value in word_dict.items():\n",
        "    if key==value:\n",
        "      global correct\n",
        "      correct+=1\n",
        "  print(correct)\n",
        "\n",
        "\n",
        "word_dict={\"THEIR\": \"THEIR\",\"BUSINESS\":\"BISINESS\",\"WINDOWS\":\"WINDMILL\",\"WERE\":\"WEAR\",\"SAMPLE\":\"SAMPLE\"}\n",
        "find_correct(word_dict)"
      ],
      "metadata": {
        "colab": {
          "base_uri": "https://localhost:8080/"
        },
        "id": "68Hnbv2NUdRg",
        "outputId": "cbaf0325-076b-44b1-97b4-fc1cc6563943"
      },
      "execution_count": null,
      "outputs": [
        {
          "output_type": "stream",
          "name": "stdout",
          "text": [
            "2\n"
          ]
        }
      ]
    },
    {
      "cell_type": "code",
      "source": [
        "def tower_of_hanoi(n,source,destination,temp):\n",
        "  if n==1:\n",
        "    disk=source.pop()\n",
        "    destination.append(disk)\n",
        "    return\n",
        "  tower_of_hanoi(n-1,source,temp,destination)\n",
        "  disk=source.pop()\n",
        "  destination.append(disk)\n",
        "  tower_of_hanoi(n-1,temp,destination,source)\n",
        "  return\n",
        "source=[\"blue\",\"green\",\"orange\"]\n",
        "destination=[]\n",
        "temp=[]\n",
        "tower_of_hanoi(len(source),source,destination,temp)\n",
        "print(\"source\",source)\n",
        "print(\"destination\",destination)"
      ],
      "metadata": {
        "colab": {
          "base_uri": "https://localhost:8080/"
        },
        "id": "SmyXwckWqneN",
        "outputId": "8090de39-aaac-41c6-e395-a69cac3a9681"
      },
      "execution_count": null,
      "outputs": [
        {
          "output_type": "stream",
          "name": "stdout",
          "text": [
            "source []\n",
            "destination ['blue', 'green', 'orange']\n"
          ]
        }
      ]
    },
    {
      "cell_type": "code",
      "source": [
        "def human_pyramid(no_of_people):\n",
        "  if no_of_people==1:\n",
        "    return 50\n",
        "  else:\n",
        "    return no_of_people*50+human_pyramid(no_of_people-2)\n",
        "\n",
        "def find_maximum_people(max_weight):\n",
        "  no_of_people=1\n",
        "  while(True):\n",
        "    weight=human_pyramid(no_of_people)\n",
        "    if weight<=max_weight:\n",
        "      no_of_people+=2\n",
        "    else:\n",
        "      break\n",
        "  return no_of_people-2\n",
        "max_people=find_maximum_people(1000)\n",
        "print(max_people)"
      ],
      "metadata": {
        "id": "W2EPFZFC4FD5",
        "colab": {
          "base_uri": "https://localhost:8080/"
        },
        "outputId": "193478ce-e0de-46cd-8b7b-ff5aa3572c2b"
      },
      "execution_count": null,
      "outputs": [
        {
          "output_type": "stream",
          "name": "stdout",
          "text": [
            "7\n"
          ]
        }
      ]
    },
    {
      "cell_type": "code",
      "source": [
        "def isPalRec(st, s, e) :\n",
        "\tif (s == e):\n",
        "\t\treturn True\n",
        "\tif (st[s] != st[e]) :\n",
        "\t\treturn False\n",
        "\tif (s < e + 1) :\n",
        "\t\treturn isPalRec(st, s + 1, e - 1);\n",
        "\treturn True\n",
        "def isPalindrome(st) :\n",
        "\tn = len(st)\n",
        "\tif (n == 0) :\n",
        "\t\treturn True\n",
        "\treturn isPalRec(st, 0, n - 1);\n",
        "st = \"MadAMa\"\n",
        "if (isPalindrome(st)) :\n",
        "\tprint (\"the given word is a pallindrome\")\n",
        "else :\n",
        "\tprint (\"the given word is a pallindrome\")\n",
        "\n",
        "\n"
      ],
      "metadata": {
        "colab": {
          "base_uri": "https://localhost:8080/"
        },
        "id": "iF0_wkXO8hOa",
        "outputId": "e55e2699-6587-4a8d-d4d9-2730fe5dab27"
      },
      "execution_count": null,
      "outputs": [
        {
          "output_type": "stream",
          "name": "stdout",
          "text": [
            "the given word is a pallindrome\n"
          ]
        }
      ]
    },
    {
      "cell_type": "code",
      "source": [
        "def find_factors(num):\n",
        "    factors = []\n",
        "    for i in range(2,(num+1)):\n",
        "        if(num%i==0):\n",
        "            factors.append(i)\n",
        "    return factors\n",
        "def is_prime(num, i):\n",
        "    if(i==1):\n",
        "        return True\n",
        "    elif(num%i==0):\n",
        "        return False;\n",
        "    else:\n",
        "        return(is_prime(num,i-1))\n",
        "def find_largest_prime_factor(list_of_factors):\n",
        "    largest_prime=None\n",
        "    for i in list_of_factors:\n",
        "        if(is_prime(i,i//2)):\n",
        "            largest_prime=i\n",
        "    return largest_prime\n",
        "def find_f(num):\n",
        "    factors=find_factors(num)\n",
        "    largest_prime=find_largest_prime_factor(factors)\n",
        "    return largest_prime\n",
        "def find_g(num):\n",
        "    total=0\n",
        "    for i in range(num,num+9):\n",
        "        total+=find_f(i)\n",
        "    return total\n",
        "print(find_g(10))"
      ],
      "metadata": {
        "colab": {
          "base_uri": "https://localhost:8080/"
        },
        "id": "p182t6JcAmv6",
        "outputId": "d08649e1-66d1-4ac0-a2e2-c7cbdc38c4ed"
      },
      "execution_count": null,
      "outputs": [
        {
          "output_type": "stream",
          "name": "stdout",
          "text": [
            "66\n"
          ]
        }
      ]
    },
    {
      "cell_type": "code",
      "source": [
        "def find_factors(num):\n",
        "  factors = []\n",
        "  for i in range(1,(num+1)):\n",
        "    if(num%i==0):\n",
        "      factors.append(i)\n",
        "  return factors\n",
        "def find_smallest_number(num):\n",
        "  i=int(1)\n",
        "  while(True):\n",
        "    x=find_factors(i)\n",
        "    if(len(x)==num):\n",
        "      print (x)\n",
        "      break\n",
        "    else:\n",
        "      i=i+int(1)\n",
        "  return x[-1]\n",
        "num=16\n",
        "print(\"the number of divisors:\",num)\n",
        "result=find_smallest_number(num)\n",
        "print(\"the smallest number is:\",result)"
      ],
      "metadata": {
        "colab": {
          "base_uri": "https://localhost:8080/"
        },
        "id": "MfxzO2cvI8KR",
        "outputId": "e9a7e50c-afa8-4bf4-9fad-2047ff7e4bae"
      },
      "execution_count": null,
      "outputs": [
        {
          "output_type": "stream",
          "name": "stdout",
          "text": [
            "the number of divisors: 16\n",
            "[1, 2, 3, 4, 5, 6, 8, 10, 12, 15, 20, 24, 30, 40, 60, 120]\n",
            "the smallest number is: 120\n"
          ]
        }
      ]
    },
    {
      "cell_type": "code",
      "source": [
        "try:\n",
        "  flight_file=open(\"flight.txt\",\"w\")\n",
        "  text=flight_file.write(\"hello\")\n",
        "  flight_file.close()\n",
        "  flight_file=open(\"flight.txt\",\"r\")\n",
        "  text=flight_file.read()\n",
        "  print(text)\n",
        "  flight_file.close()\n",
        "except:\n",
        "  print(\"error occured\")\n",
        "else:\n",
        "  if flight_file.closed:\n",
        "    print(\"file is closed\")\n",
        "  else:\n",
        "    print(\"file is open \")\n"
      ],
      "metadata": {
        "colab": {
          "base_uri": "https://localhost:8080/"
        },
        "id": "Hl-9V8p5Zea4",
        "outputId": "78de8a66-f896-4649-d30e-8aa107a0b191"
      },
      "execution_count": null,
      "outputs": [
        {
          "output_type": "stream",
          "name": "stdout",
          "text": [
            "hello\n",
            "file is closed\n"
          ]
        }
      ]
    },
    {
      "cell_type": "code",
      "source": [
        "def are_special_anagrams(str1, str2):\n",
        "    str1 = str1.lower()\n",
        "    str2 = str2.lower()\n",
        "    if len(str1)!=len(str2):\n",
        "        return False\n",
        "    if sorted(str1)!=sorted(str2):\n",
        "        return False\n",
        "    for i in range(len(str1)):\n",
        "        if str1[i] == str2[i]:\n",
        "            return False\n",
        "    return True\n",
        "print(are_special_anagrams(\"eat\",\"tea\"))\n",
        "print(are_special_anagrams(\"backward\",\"drawback\"))\n",
        "print(are_special_anagrams(\"Reductions\", \"discounter\"))\n",
        "print(are_special_anagrams(\"About\", \"table\"))"
      ],
      "metadata": {
        "colab": {
          "base_uri": "https://localhost:8080/"
        },
        "id": "ALRLBJNGjtQa",
        "outputId": "e65dc7d3-3002-4451-b835-a492aa848ab0"
      },
      "execution_count": null,
      "outputs": [
        {
          "output_type": "stream",
          "name": "stdout",
          "text": [
            "True\n",
            "False\n",
            "True\n",
            "False\n"
          ]
        }
      ]
    },
    {
      "cell_type": "code",
      "source": [
        "def remove_duplicates(value):\n",
        "    unique_list =\"\"\n",
        "    for i in value:\n",
        "        if i not in unique_list:\n",
        "            unique_list+=i\n",
        "    print(unique_list)\n",
        "remove_duplicates(\"1122334455ababzzz123#*#*\")"
      ],
      "metadata": {
        "colab": {
          "base_uri": "https://localhost:8080/"
        },
        "id": "pApfIPY6mfGQ",
        "outputId": "ca130a0b-92b2-4944-de3f-662bd71a972a"
      },
      "execution_count": null,
      "outputs": [
        {
          "output_type": "stream",
          "name": "stdout",
          "text": [
            "12345abz#*\n"
          ]
        }
      ]
    },
    {
      "cell_type": "code",
      "source": [
        "def check_perfect_number(number):\n",
        "    sum=0\n",
        "    if number==0:\n",
        "        return False\n",
        "    for i in range(1,number):\n",
        "        if number%i==0:\n",
        "            sum+=i\n",
        "    if sum==number:\n",
        "        return True\n",
        "    else:\n",
        "        return False\n",
        "    return False\n",
        "def check_perfect_no_from_list(list_of_numbers):\n",
        "    empty_list=[]\n",
        "    for i in list_of_numbers:\n",
        "        if check_perfect_number(i):\n",
        "            empty_list.append(i)\n",
        "    return empty_list\n",
        "check_perfect_no_from_list([18,6,4,2,1,28])\n",
        "#check_perfect_no_from_list([87, 76, 567, 99, 0 ])\n",
        "\n"
      ],
      "metadata": {
        "colab": {
          "base_uri": "https://localhost:8080/"
        },
        "id": "qqN0TeTTp8z1",
        "outputId": "03795411-b038-43ec-f15a-bd6f87eeeffa"
      },
      "execution_count": null,
      "outputs": [
        {
          "output_type": "execute_result",
          "data": {
            "text/plain": [
              "[6, 28]"
            ]
          },
          "metadata": {},
          "execution_count": 80
        }
      ]
    },
    {
      "cell_type": "markdown",
      "source": [
        "day6"
      ],
      "metadata": {
        "id": "PdV0KKhTCyDL"
      }
    },
    {
      "cell_type": "code",
      "source": [
        "\n",
        "ticket_list=[\"AI567:MUM:LON:014\",\"AI077:MUM:LON:056\", \"BA896:MUM:LON:067\", \"SI267:MUM:SIN:145\",\"AI077:MUM:CAN:060\",\"SI267:BLR:MUM:148\",\"AI567:CHE:SIN:015\",\"AI077:MUM:SIN:050\",\"AI077:MUM:LON:051\",\"SI267:MUM:SIN:146\"]\n",
        "def find_passengers_flight(airline_name=\"AI\"):\n",
        "  count=0\n",
        "  for i in ticket_list:\n",
        "    string_list=i.split(\":\")\n",
        "    if(string_list[0].startswith(airline_name)):\n",
        "        count+=1\n",
        "  return count\n",
        "def find_passengers_destination(destination):\n",
        "  count=0\n",
        "  for i in ticket_list:\n",
        "    string_list=i.split(\":\")\n",
        "    if(string_list[2]==destination):\n",
        "        count+=1\n",
        "  return count\n",
        "def find_passengers_per_flight():\n",
        "  list1=[]\n",
        "  for i in ticket_list:\n",
        "    string_list=i.split(\":\")\n",
        "    list1.append(string_list[0]+\":\"+str(find_passengers_flight(string_list[0])))\n",
        "  return list1\n",
        "\n",
        "def sort_passenger_list():\n",
        "  list1=find_passengers_per_flight()\n",
        "  list1.sort(reverse=True)\n",
        "  return list1\n",
        "\n",
        "print(find_passengers_flight(\"AI\"))\n",
        "print(find_passengers_destination(\"LON\"))\n",
        "print(sort_passenger_list())\n"
      ],
      "metadata": {
        "colab": {
          "base_uri": "https://localhost:8080/"
        },
        "id": "5GdISXxKLkAL",
        "outputId": "efe744e6-1e95-4f1f-f2c2-e2f4cece9f5b"
      },
      "execution_count": null,
      "outputs": [
        {
          "output_type": "stream",
          "name": "stdout",
          "text": [
            "6\n",
            "4\n",
            "['SI267:3', 'SI267:3', 'SI267:3', 'BA896:1', 'AI567:2', 'AI567:2', 'AI077:4', 'AI077:4', 'AI077:4', 'AI077:4']\n"
          ]
        }
      ]
    },
    {
      "cell_type": "code",
      "source": [
        "def nearest_pallindrome(number):\n",
        "    while True:\n",
        "        number += 1\n",
        "        if str(number) == str(number)[::-1]:\n",
        "          return number\n",
        "          break\n",
        "number=12321\n",
        "print(nearest_pallindrome(number))"
      ],
      "metadata": {
        "colab": {
          "base_uri": "https://localhost:8080/"
        },
        "id": "-PjVhKH-R_Um",
        "outputId": "248a3908-8a8c-4f41-ba4f-0135aad6e429"
      },
      "execution_count": null,
      "outputs": [
        {
          "output_type": "stream",
          "name": "stdout",
          "text": [
            "12421\n"
          ]
        }
      ]
    },
    {
      "cell_type": "code",
      "source": [
        "def check_prime(number):\n",
        "  prime_no_list=[]\n",
        "  if number==0 or number==1:\n",
        "    return False\n",
        "  for i in range(2,i//2+1):\n",
        "    if number==0 or number==1:\n",
        "      continue\n",
        "    elif number%i==0:\n",
        "      prime_no_list.append(i)\n",
        "      i+=1\n",
        "  return prime_no_list\n",
        "\n",
        "#def rotation(number):\n",
        "check_prime(10)"
      ],
      "metadata": {
        "colab": {
          "base_uri": "https://localhost:8080/",
          "height": 297
        },
        "id": "Obh2172yWr86",
        "outputId": "bd5a8a57-e335-44c4-c854-b131dfd26701"
      },
      "execution_count": null,
      "outputs": [
        {
          "output_type": "error",
          "ename": "UnboundLocalError",
          "evalue": "local variable 'i' referenced before assignment",
          "traceback": [
            "\u001b[0;31m---------------------------------------------------------------------------\u001b[0m",
            "\u001b[0;31mUnboundLocalError\u001b[0m                         Traceback (most recent call last)",
            "\u001b[0;32m<ipython-input-113-9c725870ca0d>\u001b[0m in \u001b[0;36m<cell line: 14>\u001b[0;34m()\u001b[0m\n\u001b[1;32m     12\u001b[0m \u001b[0;34m\u001b[0m\u001b[0m\n\u001b[1;32m     13\u001b[0m \u001b[0;31m#def rotation(number):\u001b[0m\u001b[0;34m\u001b[0m\u001b[0;34m\u001b[0m\u001b[0m\n\u001b[0;32m---> 14\u001b[0;31m \u001b[0mcheck_prime\u001b[0m\u001b[0;34m(\u001b[0m\u001b[0;36m10\u001b[0m\u001b[0;34m)\u001b[0m\u001b[0;34m\u001b[0m\u001b[0;34m\u001b[0m\u001b[0m\n\u001b[0m",
            "\u001b[0;32m<ipython-input-113-9c725870ca0d>\u001b[0m in \u001b[0;36mcheck_prime\u001b[0;34m(number)\u001b[0m\n\u001b[1;32m      3\u001b[0m   \u001b[0;32mif\u001b[0m \u001b[0mnumber\u001b[0m\u001b[0;34m==\u001b[0m\u001b[0;36m0\u001b[0m \u001b[0;32mor\u001b[0m \u001b[0mnumber\u001b[0m\u001b[0;34m==\u001b[0m\u001b[0;36m1\u001b[0m\u001b[0;34m:\u001b[0m\u001b[0;34m\u001b[0m\u001b[0;34m\u001b[0m\u001b[0m\n\u001b[1;32m      4\u001b[0m     \u001b[0;32mreturn\u001b[0m \u001b[0;32mFalse\u001b[0m\u001b[0;34m\u001b[0m\u001b[0;34m\u001b[0m\u001b[0m\n\u001b[0;32m----> 5\u001b[0;31m   \u001b[0;32mfor\u001b[0m \u001b[0mi\u001b[0m \u001b[0;32min\u001b[0m \u001b[0mrange\u001b[0m\u001b[0;34m(\u001b[0m\u001b[0;36m2\u001b[0m\u001b[0;34m,\u001b[0m\u001b[0mi\u001b[0m\u001b[0;34m//\u001b[0m\u001b[0;36m2\u001b[0m\u001b[0;34m+\u001b[0m\u001b[0;36m1\u001b[0m\u001b[0;34m)\u001b[0m\u001b[0;34m:\u001b[0m\u001b[0;34m\u001b[0m\u001b[0;34m\u001b[0m\u001b[0m\n\u001b[0m\u001b[1;32m      6\u001b[0m     \u001b[0;32mif\u001b[0m \u001b[0mnumber\u001b[0m\u001b[0;34m==\u001b[0m\u001b[0;36m0\u001b[0m \u001b[0;32mor\u001b[0m \u001b[0mnumber\u001b[0m\u001b[0;34m==\u001b[0m\u001b[0;36m1\u001b[0m\u001b[0;34m:\u001b[0m\u001b[0;34m\u001b[0m\u001b[0;34m\u001b[0m\u001b[0m\n\u001b[1;32m      7\u001b[0m       \u001b[0;32mcontinue\u001b[0m\u001b[0;34m\u001b[0m\u001b[0;34m\u001b[0m\u001b[0m\n",
            "\u001b[0;31mUnboundLocalError\u001b[0m: local variable 'i' referenced before assignment"
          ]
        }
      ]
    },
    {
      "cell_type": "code",
      "source": [
        "def prime(number):\n",
        "    prime_list = []\n",
        "    for i in range(2,number):\n",
        "        if i == 0 or i == 1:\n",
        "            continue\n",
        "        else:\n",
        "            for j in range(2, int(i/2)+1):\n",
        "                if i % j == 0:\n",
        "                    break\n",
        "            else:\n",
        "                prime_list.append(i)\n",
        "    print(prime_list)\n",
        "    return prime_list\n",
        "def rotations(num):\n",
        "  string_num=str(num)\n",
        "  rotation_list=[]\n",
        "\n",
        "\n",
        "\n",
        "  print(rotation_list)\n",
        "  return (rotation_list)\n",
        "def get_circular_prime_count(limit):\n",
        "  prime_list=prime(limit)\n",
        "  circular_prime_count=0\n",
        "  for i in prime_list:\n",
        "    rotation_list=rotations(i)\n",
        "    for j in rotation_list:\n",
        "      if j not in prime_list:\n",
        "        break\n",
        "      else:\n",
        "        circular_prime_count+=1\n",
        "  return circular_prime_count\n",
        "print(get_circular_prime_count(100))\n"
      ],
      "metadata": {
        "colab": {
          "base_uri": "https://localhost:8080/"
        },
        "id": "NQdEga3dezpJ",
        "outputId": "eaee7e65-38b9-40a4-c3de-ef5c0ecb4170"
      },
      "execution_count": null,
      "outputs": [
        {
          "output_type": "stream",
          "name": "stdout",
          "text": [
            "[2, 3, 5, 7, 11, 13, 17, 19, 23, 29, 31, 37, 41, 43, 47, 53, 59, 61, 67, 71, 73, 79, 83, 89, 97]\n",
            "[]\n",
            "[]\n",
            "[]\n",
            "[]\n",
            "[]\n",
            "[]\n",
            "[]\n",
            "[]\n",
            "[]\n",
            "[]\n",
            "[]\n",
            "[]\n",
            "[]\n",
            "[]\n",
            "[]\n",
            "[]\n",
            "[]\n",
            "[]\n",
            "[]\n",
            "[]\n",
            "[]\n",
            "[]\n",
            "[]\n",
            "[]\n",
            "[]\n",
            "0\n"
          ]
        }
      ]
    },
    {
      "cell_type": "code",
      "source": [
        "def add_string(str1):\n",
        "  if len(str1)<3:\n",
        "    str1=str1\n",
        "  elif str1[-3:]==\"ing\":\n",
        "    str1=str1+\"ly\"\n",
        "  else:\n",
        "    str1=str1+\"ing\"\n",
        "\n",
        "\n",
        "  return str1\n",
        "str1=\"is\"\n",
        "print(add_string(str1))"
      ],
      "metadata": {
        "colab": {
          "base_uri": "https://localhost:8080/"
        },
        "id": "Z8fC1mCTmexq",
        "outputId": "b103ebd5-fec9-407c-82cf-3279eb88b239"
      },
      "execution_count": null,
      "outputs": [
        {
          "output_type": "stream",
          "name": "stdout",
          "text": [
            "is\n"
          ]
        }
      ]
    },
    {
      "cell_type": "code",
      "source": [
        "def bracket_pattern(input_str):\n",
        "  count1=0\n",
        "  count2=0\n",
        "  for i in input_str:\n",
        "    if i==\"(\":\n",
        "      count1+=1\n",
        "    elif i==\")\":\n",
        "      count2+=1\n",
        "  if str1[0]!=\")\" and str1[-1]!=\"(\" and count1==count2:\n",
        "    return True\n",
        "  else:\n",
        "    return False\n",
        "input_str=\")()((()())\"\n",
        "print(bracket_pattern(input_str))"
      ],
      "metadata": {
        "colab": {
          "base_uri": "https://localhost:8080/"
        },
        "id": "8ehDiXVInUI0",
        "outputId": "dcbbddb4-8b76-4abd-a6cb-d4986d337af1"
      },
      "execution_count": null,
      "outputs": [
        {
          "output_type": "stream",
          "name": "stdout",
          "text": [
            "True\n"
          ]
        }
      ]
    },
    {
      "cell_type": "code",
      "source": [
        "def creat_new_dictionary(price):\n",
        "  for key,value in price.items():\n",
        "    if value>=200:\n",
        "      print(key,value)\n",
        "prices={'ACME':45.23,'AAPL':612.78,'IBM':205.55,'HPQ':37.20,'FB':10.75}\n",
        "creat_new_dictionary(prices)\n"
      ],
      "metadata": {
        "colab": {
          "base_uri": "https://localhost:8080/"
        },
        "id": "tUPiZSz6qQ5Q",
        "outputId": "b4d87004-056a-4f44-bd1b-bb02fe951089"
      },
      "execution_count": null,
      "outputs": [
        {
          "output_type": "stream",
          "name": "stdout",
          "text": [
            "AAPL 612.78\n",
            "IBM 205.55\n"
          ]
        }
      ]
    },
    {
      "cell_type": "code",
      "source": [
        "def find_nine(nums):\n",
        "  for i in range(4):\n",
        "    if nums[i]==9:\n",
        "      return True\n",
        "  return False\n",
        "nums=[1,2,9]\n",
        "print(find_nine(nums))\n",
        "nums=[1,2,9,3,4]\n",
        "print(find_nine(nums))\n",
        "nums=[1,2,3,4]\n",
        "print(find_nine(nums))\n",
        "nums=[1,2,9,4,5,6,7,8,9]\n",
        "print(find_nine(nums))"
      ],
      "metadata": {
        "colab": {
          "base_uri": "https://localhost:8080/"
        },
        "id": "4UO292f5sBBG",
        "outputId": "1d506827-8ff7-4b7d-922c-7e4b895ce8de"
      },
      "execution_count": null,
      "outputs": [
        {
          "output_type": "stream",
          "name": "stdout",
          "text": [
            "True\n",
            "True\n",
            "False\n",
            "True\n"
          ]
        }
      ]
    },
    {
      "cell_type": "code",
      "source": [
        "def count_digits_letters(string1):\n",
        "  digits=0\n",
        "  letters=0\n",
        "  result_list=[]\n",
        "  for i in string1:\n",
        "    if i.isdigit():\n",
        "      digits+=1\n",
        "    elif i.isalpha():\n",
        "      letters+=1\n",
        "  result_list.append(letters)\n",
        "  result_list.append(digits)\n",
        "  return result_list\n",
        "string1=\"infosys123\"\n",
        "print(count_digits_letters(string1))\n",
        "string1=\"abcefg\"\n",
        "print(count_digits_letters(string1))"
      ],
      "metadata": {
        "colab": {
          "base_uri": "https://localhost:8080/"
        },
        "id": "9cyVLXFQuCHk",
        "outputId": "a02ca5c4-46dc-4340-c93c-274f2fad0ffe"
      },
      "execution_count": null,
      "outputs": [
        {
          "output_type": "stream",
          "name": "stdout",
          "text": [
            "[7, 3]\n",
            "[6, 0]\n"
          ]
        }
      ]
    },
    {
      "cell_type": "code",
      "source": [
        "def validate_name(name):\n",
        "  str_name=str(name)\n",
        "  if str(name)==0:\n",
        "    return False\n",
        "  elif len(str_name)>15:\n",
        "    return False\n",
        "  elif str_name.isalpha()==False:\n",
        "    return False\n",
        "  else:\n",
        "    return True\n",
        "#name=\"Infosys Limited\"\n",
        "#print(validate_name(name))\n",
        "#name=\"Infosys\"\n",
        "#print(validate_name(name))\n",
        "def validate_phone_number(phone_number):\n",
        "  str_phone_number=str(phone_number)\n",
        "  if len(str_phone_number)!=10:\n",
        "    return False\n",
        "  elif str_phone_number.isdigit()==False:\n",
        "    return False\n",
        "  elif str_phone_number[0]==\"0\":\n",
        "    return False\n",
        "  elif str_phone_number[0]==str_phone_number[1]==str_phone_number[2]==str_phone_number[3]==str_phone_number[4]==str_phone_number[5]==str_phone_number[6]==str_phone_number[7]==str_phone_number[8]==str_phone_number[9]:\n",
        "    return False\n",
        "  else:\n",
        "    return True\n",
        "#phone_number=\"9999999999\"\n",
        "#print(validate_phone_number(phone_number))\n",
        "#phone_number=\"12345678@\"\n",
        "#print(validate_phone_number(phone_number))\n",
        "#phone_number=\"0376128456\"\n",
        "#print(validate_phone_number(phone_number))\n",
        "#phone_number=\"12345678900\"\n",
        "#print(validate_phone_number(phone_number))\n",
        "#phone_number=\"6754392763\"\n",
        "#print(validate_phone_number(phone_number))\n",
        "def validate_email(email):\n",
        "  str_email=str(email)\n",
        "  if str_email.count(\"@\")!=1:\n",
        "    return False\n",
        "  elif str_email.count(\".com\")!=1:\n",
        "    return False\n",
        "  elif str_email[::-1]!=(\".com\"):\n",
        "    return False\n",
        "\n",
        "  else:\n",
        "    return True\n",
        "#email=\"john.c.breckinridge@altostrat.com\"\n",
        "#print(validate_email(email))\n"
      ],
      "metadata": {
        "id": "jy74Uou4vmwA"
      },
      "execution_count": null,
      "outputs": []
    },
    {
      "cell_type": "code",
      "source": [
        "def check_well_formatted(input_item,list_label):\n",
        "    if not isinstance(input_item,list):\n",
        "      return False\n",
        "    if len(input_item)<2:\n",
        "      return False\n",
        "    if input_item[0] not in list_label:\n",
        "      return False\n",
        "    for item in input_item[1::]:\n",
        "      if isinstance(item,str):\n",
        "        continue\n",
        "      elif isinstance(item,list):\n",
        "        if not check_well_formatted(item,list_label):\n",
        "          return False\n",
        "      else:\n",
        "        return False\n",
        "    return True\n",
        "#input_list1=['VP', ['V', 'eat']]\n",
        "#list_label1=['VP']\n",
        "#result=check_well_formatted(input_list1,list_label1)\n",
        "input_list1=[1]\n",
        "list_label1=[1, 2]\n",
        "result=check_well_formatted(input_list1,list_label1)\n",
        "if result is True:\n",
        "    print(\"Well formatted\")\n",
        "else:\n",
        "    print(\"Not Well formatted\")"
      ],
      "metadata": {
        "colab": {
          "base_uri": "https://localhost:8080/"
        },
        "id": "Wsif75MM_wXy",
        "outputId": "8c0896e4-4042-4377-c6cc-d18a07451673"
      },
      "execution_count": null,
      "outputs": [
        {
          "output_type": "stream",
          "name": "stdout",
          "text": [
            "Not Well formatted\n"
          ]
        }
      ]
    },
    {
      "cell_type": "code",
      "source": [
        "def int_to_roman(num):\n",
        "  roman_numerals = [ (1000, \"M\"), (900, \"CM\"), (500, \"D\"), (400, \"CD\"), (100, \"C\"), (90, \"XC\"), (50, \"L\"), (40, \"XL\"), (10, \"X\"), (9, \"IX\"), (5, \"V\"), (4, \"IV\"), (1, \"I\") ]\n",
        "  roman_string = \"\"\n",
        "  for value, symbol in roman_numerals:\n",
        "    while num >= value:\n",
        "      roman_string += symbol\n",
        "      num -= value\n",
        "  return roman_string\n",
        "print(int_to_roman(1796))\n"
      ],
      "metadata": {
        "colab": {
          "base_uri": "https://localhost:8080/"
        },
        "id": "ge2K-Wmsz2XO",
        "outputId": "21575abb-5e0a-4f45-bc56-1ef5d1e25c8f"
      },
      "execution_count": null,
      "outputs": [
        {
          "output_type": "stream",
          "name": "stdout",
          "text": [
            "MDCCXCVI\n"
          ]
        }
      ]
    },
    {
      "cell_type": "code",
      "source": [
        "def is_substr(word,str1):\n",
        "  substr_list=[]\n",
        "  for i in range(0,len(word)):\n",
        "    for j in range(i+1,len(word)):\n",
        "        substr_list.append(word[i:j+1])\n",
        "  if str1 in substr_list:\n",
        "    return True\n",
        "  else:\n",
        "    return False\n",
        "print(is_substr(\"hello\",\"hello\"))"
      ],
      "metadata": {
        "colab": {
          "base_uri": "https://localhost:8080/"
        },
        "id": "55VX4iwLZzJ6",
        "outputId": "6da6d805-5168-421b-ed08-44c531c74364"
      },
      "execution_count": null,
      "outputs": [
        {
          "output_type": "stream",
          "name": "stdout",
          "text": [
            "True\n"
          ]
        }
      ]
    },
    {
      "cell_type": "code",
      "source": [
        "def delete_ones(num_list):\n",
        "  temp_list=[]\n",
        "  for num in num_list:\n",
        "    if num!=1:\n",
        "      temp_list.append(num)\n",
        "  num_list=temp_list\n",
        "  return num_list\n",
        "num_list=[1,1,2,1]\n",
        "print(delete_ones(num_list))"
      ],
      "metadata": {
        "colab": {
          "base_uri": "https://localhost:8080/"
        },
        "id": "LYQfVdH_d-Ro",
        "outputId": "9478498f-3742-405a-838f-7e8c0f441ab6"
      },
      "execution_count": null,
      "outputs": [
        {
          "output_type": "stream",
          "name": "stdout",
          "text": [
            "[2]\n"
          ]
        }
      ]
    },
    {
      "cell_type": "code",
      "source": [
        "list1=[1,2,3,3]\n",
        "for num in len(list1),:\n",
        "  print(num,end=\" \")    #it will print length of list"
      ],
      "metadata": {
        "colab": {
          "base_uri": "https://localhost:8080/"
        },
        "id": "tVf9PYyHkHOm",
        "outputId": "5d929077-968d-44c1-da53-5b38b51e7b77"
      },
      "execution_count": null,
      "outputs": [
        {
          "output_type": "stream",
          "name": "stdout",
          "text": [
            "4 "
          ]
        }
      ]
    },
    {
      "cell_type": "code",
      "source": [
        "def move(list1,list2):\n",
        "  for num in list1:\n",
        "    list2.append(num)\n",
        "    list1.remove(num)\n",
        "  return list2\n",
        "list1=[1,2,3,4]\n",
        "list2=[10]\n",
        "move(list1,list2)\n",
        "print(list1,list2)"
      ],
      "metadata": {
        "colab": {
          "base_uri": "https://localhost:8080/"
        },
        "id": "lL_8d5ewmPOg",
        "outputId": "d84709f9-597e-48e8-e293-b4f838349d4d"
      },
      "execution_count": null,
      "outputs": [
        {
          "output_type": "stream",
          "name": "stdout",
          "text": [
            "[2, 4] [10, 1, 3]\n"
          ]
        }
      ]
    },
    {
      "cell_type": "code",
      "source": [
        "list1=[1,2,3]\n",
        "var1,var2,var3=list1\n",
        "var1/var2"
      ],
      "metadata": {
        "colab": {
          "base_uri": "https://localhost:8080/"
        },
        "id": "ipRn64xQvEmE",
        "outputId": "1ab6f9c4-f0f6-4f9a-d7fc-dcfeac3c7db4"
      },
      "execution_count": null,
      "outputs": [
        {
          "output_type": "execute_result",
          "data": {
            "text/plain": [
              "0.5"
            ]
          },
          "metadata": {},
          "execution_count": 37
        }
      ]
    },
    {
      "cell_type": "code",
      "source": [
        "def fun1():\n",
        "  try:\n",
        "    var1=1/0\n",
        "    return 1\n",
        "  except ZeroDivisionError:\n",
        "    #var1=1/0\n",
        "    return 2\n",
        "  finally:\n",
        "    return 3\n",
        "print(fun1())"
      ],
      "metadata": {
        "colab": {
          "base_uri": "https://localhost:8080/"
        },
        "id": "fLjBgA-ox2oc",
        "outputId": "41465dcb-14bf-48a4-9df4-ff5418c2c75b"
      },
      "execution_count": null,
      "outputs": [
        {
          "output_type": "stream",
          "name": "stdout",
          "text": [
            "3\n"
          ]
        }
      ]
    },
    {
      "cell_type": "code",
      "source": [
        "train_list=[{'train_no': 23492, 'name': 'Tuticorin Express', 'from': 'MYS', 'to': 'TUT', 'days_of_run': ['Su', 'Mo', 'We'], 'sleeper_fare': 450, 'ac_fare': 780},\n",
        "            {'train_no': 45200, 'name': 'Kaveri Express', 'from': 'MYS', 'to': 'CHN', 'days_of_run': ['Mo', 'Fr'], 'sleeper_fare': 700, 'ac_fare': 1200},\n",
        "            {'train_no': 12093, 'name': 'Lokmanya Express', 'from': 'CBE', 'to': 'LOK', 'days_of_run': ['Mo', 'Tu', 'We', 'Th', 'Fr', 'Sa'], 'sleeper_fare': 720, 'ac_fare': 1340},\n",
        "            {'train_no': 67234, 'name': 'Poorna Express', 'from': 'ERN', 'to': 'PUN', 'days_of_run': ['Th', 'Fr', 'Sa'], 'sleeper_fare': 987, 'ac_fare': 2879}]\n",
        "def get_train_name(train_no):\n",
        "    for train_details in train_list:\n",
        "        if train_details[\"train_no\"] == train_no:\n",
        "            return train_details[\"name\"]\n",
        "    return \"Invalid Train_no\"\n",
        "def get_trains_for_day(day_of_run):\n",
        "    train_no_details =[]\n",
        "    for train_details in train_list:\n",
        "        each_day_run_list = train_details[\"days_of_run\"]\n",
        "        if day_of_run in each_day_run_list:\n",
        "            train_no_details.append(train_details[\"train_no\"])\n",
        "    if len(train_no_details)==0:\n",
        "        return \"Invalid day\"\n",
        "    return train_no_details\n",
        "def get_total_fare(train_no, passenger_dict):\n",
        "    no_sleeper_tickets = passenger_dict[\"sleeper\"]\n",
        "    no_ac_tickets = passenger_dict[\"ac\"]\n",
        "    for train_dict in train_list:\n",
        "        list_train_no = train_dict[\"train_no\"]\n",
        "        sleeper_fare = train_dict[\"sleeper_fare\"]\n",
        "        ac_fare = train_dict[\"ac_fare\"]\n",
        "get_train_name(45200)\n",
        "\n"
      ],
      "metadata": {
        "colab": {
          "base_uri": "https://localhost:8080/",
          "height": 36
        },
        "id": "4sg1M4QENGeA",
        "outputId": "1f5d5421-689a-44c6-e2b4-8fb2275d79d0"
      },
      "execution_count": null,
      "outputs": [
        {
          "output_type": "execute_result",
          "data": {
            "text/plain": [
              "'Kaveri Express'"
            ],
            "application/vnd.google.colaboratory.intrinsic+json": {
              "type": "string"
            }
          },
          "metadata": {},
          "execution_count": 10
        }
      ]
    },
    {
      "cell_type": "code",
      "source": [
        "def ducci_sequence(test_list,n):\n",
        "  current_list = test_list\n",
        "  final_list = []\n",
        "  for i in range(n+1):\n",
        "      first_part = []\n",
        "      for i in range(len(current_list)-1):\n",
        "        first_part.append(abs(current_list[i] - current_list[i + 1]))\n",
        "      second_part = [abs(current_list[-1] - current_list[0])]\n",
        "      current_list = first_part + second_part\n",
        "      final_list.append(current_list)\n",
        "  return final_list[n]\n",
        "\n",
        "ducci_element=ducci_sequence([0,653,1854,4063],1)\n",
        "print(ducci_element)"
      ],
      "metadata": {
        "colab": {
          "base_uri": "https://localhost:8080/"
        },
        "id": "KgempjW9lihQ",
        "outputId": "1592c87f-59b4-4469-8d76-cd25bca0add0"
      },
      "execution_count": null,
      "outputs": [
        {
          "output_type": "stream",
          "name": "stdout",
          "text": [
            "[548, 1008, 1854, 3410]\n"
          ]
        }
      ]
    },
    {
      "cell_type": "code",
      "source": [
        "def list_rotate(uniquecode_list):\n",
        "    rotated_list=[]\n",
        "    #Write your code here\n",
        "    return rotated_list\n",
        "\n",
        "#You may modify the below code for testing\n",
        "uniquecode_list=[\"AZ01-1234\",\"R137-8714\"]\n",
        "rotated_list = list_rotate(uniquecode_list)\n",
        "print(rotated_list)"
      ],
      "metadata": {
        "id": "aMH87VSQq3Hj",
        "colab": {
          "base_uri": "https://localhost:8080/"
        },
        "outputId": "4b08790c-b619-4665-bcc2-fa29b4625886"
      },
      "execution_count": null,
      "outputs": [
        {
          "output_type": "stream",
          "name": "stdout",
          "text": [
            "[]\n"
          ]
        }
      ]
    },
    {
      "cell_type": "code",
      "source": [
        "def list123(nums):\n",
        "  for i in range(len(nums)-2):\n",
        "    if nums[i]==1 and nums[i+1]==2 and nums[i+2]==3:\n",
        "      return True\n",
        "  return False\n",
        "nums=[1,1,2,4,3]\n",
        "print(list123(nums))"
      ],
      "metadata": {
        "colab": {
          "base_uri": "https://localhost:8080/"
        },
        "id": "oiyidFol2yoK",
        "outputId": "03f516f6-1710-47b7-b7ef-8a61e2cb5ca6"
      },
      "execution_count": null,
      "outputs": [
        {
          "output_type": "stream",
          "name": "stdout",
          "text": [
            "False\n"
          ]
        }
      ]
    },
    {
      "cell_type": "code",
      "source": [
        "def seed_no(number,ref_no):\n",
        "  number_str=str(number)\n",
        "  ref_no_str=str(ref_no)\n",
        "  product=1\n",
        "  for digit in number_str:\n",
        "    product*=int(digit)\n",
        "  if product*int(number_str)==ref_no:\n",
        "      return True\n",
        "  return False\n",
        "number=123\n",
        "ref_no=738\n",
        "print(seed_no(number,ref_no))\n",
        "number=45\n",
        "ref_no=1000\n",
        "print(seed_no(number,ref_no))"
      ],
      "metadata": {
        "colab": {
          "base_uri": "https://localhost:8080/"
        },
        "id": "2_MlSEyh34rw",
        "outputId": "e5518cdb-98a8-4228-f1c8-85f8f01a4329"
      },
      "execution_count": null,
      "outputs": [
        {
          "output_type": "stream",
          "name": "stdout",
          "text": [
            "True\n",
            "False\n"
          ]
        }
      ]
    },
    {
      "cell_type": "markdown",
      "source": [
        "day7"
      ],
      "metadata": {
        "id": "sE4hv_FdC61q"
      }
    },
    {
      "cell_type": "code",
      "source": [
        "def purchase_mobile(price,brand):\n",
        "    if brand == \"Apple\":\n",
        "        discount = 10\n",
        "    else:\n",
        "        discount = 5\n",
        "    total_price = price - price * discount / 100\n",
        "    print(\"Total price of \"+str(total_price))\n",
        "\n",
        "def purchase_shoe(price,material):\n",
        "    if material == \"leather\":\n",
        "        tax = 5\n",
        "    else:\n",
        "        tax = 2\n",
        "    total_price = price + price * tax / 100\n",
        "    print(\"Total price of is \"+str(total_price))\n",
        "\n",
        "purchase_mobile(20000,\"Apple\")\n",
        "purchase_shoe(200,\"leather\")"
      ],
      "metadata": {
        "id": "DgPBF2hL8Fll",
        "colab": {
          "base_uri": "https://localhost:8080/"
        },
        "outputId": "0289c1f9-c674-47c1-84b1-8ebdfafb83e1"
      },
      "execution_count": null,
      "outputs": [
        {
          "output_type": "stream",
          "name": "stdout",
          "text": [
            "Total price of 18000.0\n",
            "Total price of is 210.0\n"
          ]
        }
      ]
    },
    {
      "cell_type": "code",
      "source": [
        "class Mobile:\n",
        "  pass\n",
        "mob1=Mobile()\n",
        "mob2=Mobile()\n",
        "mob1.price=30000\n",
        "mob1.brand=\"Apple\"\n",
        "mob1.ios_version=10\n",
        "\n",
        "print(mob1.ios_version)\n",
        "mob2.price=20000\n",
        "mob2.brand=\"Samsung\"\n",
        "mob1.ios_versio=10\n",
        "print(mob2.ios_versio)"
      ],
      "metadata": {
        "colab": {
          "base_uri": "https://localhost:8080/",
          "height": 193
        },
        "id": "_S5yNcEJKZeB",
        "outputId": "1c6bff9e-5cfe-490c-b5a9-ecba33ce4a5b"
      },
      "execution_count": null,
      "outputs": [
        {
          "output_type": "stream",
          "name": "stdout",
          "text": [
            "10\n"
          ]
        },
        {
          "output_type": "error",
          "ename": "AttributeError",
          "evalue": "'Mobile' object has no attribute 'ios_versio'",
          "traceback": [
            "\u001b[0;31m---------------------------------------------------------------------------\u001b[0m",
            "\u001b[0;31mAttributeError\u001b[0m                            Traceback (most recent call last)",
            "\u001b[0;32m<ipython-input-12-0b0cf9f352d4>\u001b[0m in \u001b[0;36m<cell line: 13>\u001b[0;34m()\u001b[0m\n\u001b[1;32m     11\u001b[0m \u001b[0mmob2\u001b[0m\u001b[0;34m.\u001b[0m\u001b[0mbrand\u001b[0m\u001b[0;34m=\u001b[0m\u001b[0;34m\"Samsung\"\u001b[0m\u001b[0;34m\u001b[0m\u001b[0;34m\u001b[0m\u001b[0m\n\u001b[1;32m     12\u001b[0m \u001b[0mmob1\u001b[0m\u001b[0;34m.\u001b[0m\u001b[0mios_versio\u001b[0m\u001b[0;34m=\u001b[0m\u001b[0;36m10\u001b[0m\u001b[0;34m\u001b[0m\u001b[0;34m\u001b[0m\u001b[0m\n\u001b[0;32m---> 13\u001b[0;31m \u001b[0mprint\u001b[0m\u001b[0;34m(\u001b[0m\u001b[0mmob2\u001b[0m\u001b[0;34m.\u001b[0m\u001b[0mios_versio\u001b[0m\u001b[0;34m)\u001b[0m\u001b[0;34m\u001b[0m\u001b[0;34m\u001b[0m\u001b[0m\n\u001b[0m",
            "\u001b[0;31mAttributeError\u001b[0m: 'Mobile' object has no attribute 'ios_versio'"
          ]
        }
      ]
    },
    {
      "cell_type": "code",
      "source": [
        "class Even_odd():\n",
        "  def data_input(self,num):\n",
        "    self.num=num\n",
        "  def check(self):\n",
        "    if self.num%2==0:\n",
        "      print(\"even\")\n",
        "    else:\n",
        "      print(\"odd\")\n",
        "obj1=Even_odd()\n",
        "obj2=Even_odd()\n",
        "obj3=Even_odd()\n",
        "obj1.data_input(212)\n",
        "obj2.data_input(21)\n",
        "obj3.data_input(2)\n",
        "obj1.check()\n",
        "obj2.check()\n",
        "obj3.check()"
      ],
      "metadata": {
        "colab": {
          "base_uri": "https://localhost:8080/"
        },
        "id": "OXFXixJCSsQ_",
        "outputId": "e274d002-ca3e-4da7-d2ff-720f88a6ee6e"
      },
      "execution_count": null,
      "outputs": [
        {
          "output_type": "stream",
          "name": "stdout",
          "text": [
            "even\n",
            "odd\n",
            "even\n"
          ]
        }
      ]
    },
    {
      "cell_type": "code",
      "source": [
        "class pallindrom():\n",
        "  def data_input(self,string):\n",
        "    self.string=string\n",
        "  def check(self):\n",
        "    if self.string==self.string[::-1]:\n",
        "      print(\"pallindrom\")\n",
        "    else:\n",
        "      print(\"not pallindrom\")\n",
        "obj1=pallindrom()\n",
        "obj1.data_input(\"madam\")\n",
        "obj1.check()"
      ],
      "metadata": {
        "colab": {
          "base_uri": "https://localhost:8080/"
        },
        "id": "mv-IHYFFVd_n",
        "outputId": "2fa89f7c-57e1-4553-ce1d-784c9f56d9c2"
      },
      "execution_count": null,
      "outputs": [
        {
          "output_type": "stream",
          "name": "stdout",
          "text": [
            "pallindrom\n"
          ]
        }
      ]
    },
    {
      "cell_type": "code",
      "source": [
        "class pallindrom():\n",
        "  def data_input(self,num):\n",
        "    self.num=num\n",
        "  def check(self):\n",
        "    num_str=str(self.num)\n",
        "    if num_str==num_str[::-1]:\n",
        "      print(\"pallindrom\")\n",
        "    else:\n",
        "      print(\"not pallindrom\")\n",
        "obj1=pallindrom()\n",
        "obj1.data_input(323)\n",
        "obj1.check()"
      ],
      "metadata": {
        "colab": {
          "base_uri": "https://localhost:8080/"
        },
        "id": "N6lDbbLNXghw",
        "outputId": "10caddd5-6666-4028-da88-c2805c4f4cf6"
      },
      "execution_count": null,
      "outputs": [
        {
          "output_type": "stream",
          "name": "stdout",
          "text": [
            "pallindrom\n"
          ]
        }
      ]
    },
    {
      "cell_type": "code",
      "source": [
        "class Vehicle:\n",
        "  def __init__(self,milage,fuel_left):\n",
        "    self.milage=milage\n",
        "    self.fuel_left=fuel_left\n",
        "\n",
        "  def identify_distance_that_can_be_travelled(self):\n",
        "    initial_fuel=15\n",
        "    if self.fuel_left<=5:\n",
        "      print(\"not enough fuel\")\n",
        "    else:\n",
        "      max_distance=(initial_fuel-5*self.milage)-self.identify_distance_travelled(initial_fuel )\n",
        "      print(\"maximum distance can be travelled is:\",max_distance)\n",
        "\n",
        "  def identify_distance_travelled(self,initial_fuel):\n",
        "      distance_covered=(initial_fuel-self.fuel_left)*self.milage\n",
        "      print(\"the covered distance is:\",distance_covered)\n",
        "\n",
        "car=Vehicle(12,20)\n",
        "car.identify_distance_that_can_be_travelled()\n",
        "car.identify_distance_travelled(25)"
      ],
      "metadata": {
        "colab": {
          "base_uri": "https://localhost:8080/",
          "height": 349
        },
        "id": "oEYLUhIh1UiQ",
        "outputId": "fba92ed0-f8ca-4c46-a177-09723477807f"
      },
      "execution_count": null,
      "outputs": [
        {
          "output_type": "stream",
          "name": "stdout",
          "text": [
            "the covered distance is: -60\n"
          ]
        },
        {
          "output_type": "error",
          "ename": "TypeError",
          "evalue": "unsupported operand type(s) for -: 'int' and 'NoneType'",
          "traceback": [
            "\u001b[0;31m---------------------------------------------------------------------------\u001b[0m",
            "\u001b[0;31mTypeError\u001b[0m                                 Traceback (most recent call last)",
            "\u001b[0;32m<ipython-input-74-ed796bd4302e>\u001b[0m in \u001b[0;36m<cell line: 19>\u001b[0;34m()\u001b[0m\n\u001b[1;32m     17\u001b[0m \u001b[0;34m\u001b[0m\u001b[0m\n\u001b[1;32m     18\u001b[0m \u001b[0mcar\u001b[0m\u001b[0;34m=\u001b[0m\u001b[0mVehicle\u001b[0m\u001b[0;34m(\u001b[0m\u001b[0;36m12\u001b[0m\u001b[0;34m,\u001b[0m\u001b[0;36m20\u001b[0m\u001b[0;34m)\u001b[0m\u001b[0;34m\u001b[0m\u001b[0;34m\u001b[0m\u001b[0m\n\u001b[0;32m---> 19\u001b[0;31m \u001b[0mcar\u001b[0m\u001b[0;34m.\u001b[0m\u001b[0midentify_distance_that_can_be_travelled\u001b[0m\u001b[0;34m(\u001b[0m\u001b[0;34m)\u001b[0m\u001b[0;34m\u001b[0m\u001b[0;34m\u001b[0m\u001b[0m\n\u001b[0m\u001b[1;32m     20\u001b[0m \u001b[0mcar\u001b[0m\u001b[0;34m.\u001b[0m\u001b[0midentify_distance_travelled\u001b[0m\u001b[0;34m(\u001b[0m\u001b[0;36m25\u001b[0m\u001b[0;34m)\u001b[0m\u001b[0;34m\u001b[0m\u001b[0;34m\u001b[0m\u001b[0m\n",
            "\u001b[0;32m<ipython-input-74-ed796bd4302e>\u001b[0m in \u001b[0;36midentify_distance_that_can_be_travelled\u001b[0;34m(self)\u001b[0m\n\u001b[1;32m      9\u001b[0m       \u001b[0mprint\u001b[0m\u001b[0;34m(\u001b[0m\u001b[0;34m\"not enough fuel\"\u001b[0m\u001b[0;34m)\u001b[0m\u001b[0;34m\u001b[0m\u001b[0;34m\u001b[0m\u001b[0m\n\u001b[1;32m     10\u001b[0m     \u001b[0;32melse\u001b[0m\u001b[0;34m:\u001b[0m\u001b[0;34m\u001b[0m\u001b[0;34m\u001b[0m\u001b[0m\n\u001b[0;32m---> 11\u001b[0;31m       \u001b[0mmax_distance\u001b[0m\u001b[0;34m=\u001b[0m\u001b[0;34m(\u001b[0m\u001b[0minitial_fuel\u001b[0m\u001b[0;34m-\u001b[0m\u001b[0;36m5\u001b[0m\u001b[0;34m*\u001b[0m\u001b[0mself\u001b[0m\u001b[0;34m.\u001b[0m\u001b[0mmilage\u001b[0m\u001b[0;34m)\u001b[0m\u001b[0;34m-\u001b[0m\u001b[0mself\u001b[0m\u001b[0;34m.\u001b[0m\u001b[0midentify_distance_travelled\u001b[0m\u001b[0;34m(\u001b[0m\u001b[0minitial_fuel\u001b[0m \u001b[0;34m)\u001b[0m\u001b[0;34m\u001b[0m\u001b[0;34m\u001b[0m\u001b[0m\n\u001b[0m\u001b[1;32m     12\u001b[0m       \u001b[0mprint\u001b[0m\u001b[0;34m(\u001b[0m\u001b[0;34m\"maximum distance can be travelled is:\"\u001b[0m\u001b[0;34m,\u001b[0m\u001b[0mmax_distance\u001b[0m\u001b[0;34m)\u001b[0m\u001b[0;34m\u001b[0m\u001b[0;34m\u001b[0m\u001b[0m\n\u001b[1;32m     13\u001b[0m \u001b[0;34m\u001b[0m\u001b[0m\n",
            "\u001b[0;31mTypeError\u001b[0m: unsupported operand type(s) for -: 'int' and 'NoneType'"
          ]
        }
      ]
    },
    {
      "cell_type": "code",
      "source": [
        "class Athlete:\n",
        "    def __init__(self,name,gender):\n",
        "        self.__name=name\n",
        "        self.__gender=gender\n",
        "\n",
        "    def running(self):\n",
        "        if(self.__gender==\"girl\"):\n",
        "            print(\"150mtr running\")\n",
        "        else:\n",
        "            print(\"200mtr running\")\n",
        "    def set_name(self,name):\n",
        "        self.__name=name\n",
        "    def set_gender(self,gender):\n",
        "        self.__gender=gender\n",
        "    def get_name(self):\n",
        "      return self.__name\n",
        "    def get_gender(self):\n",
        "      return self.__gender\n",
        "obj1=Athlete(\"maria\",\"girl\")\n",
        "print(obj1.get_name())\n",
        "print(obj1.get_gender())\n",
        "obj1.running()\n",
        "\n",
        "\n",
        "\n"
      ],
      "metadata": {
        "colab": {
          "base_uri": "https://localhost:8080/"
        },
        "id": "rxDYfZU_qXry",
        "outputId": "990a1107-4838-4c4b-c744-08b78d13944c"
      },
      "execution_count": null,
      "outputs": [
        {
          "output_type": "stream",
          "name": "stdout",
          "text": [
            "maria\n",
            "girl\n",
            "150mtr running\n"
          ]
        }
      ]
    },
    {
      "cell_type": "code",
      "source": [
        "class Vehicle:\n",
        "  def __init__(self,vehicle_id,vehicle_type,cost,premium_amount):\n",
        "    self.vehicle_id=vehicle_id\n",
        "    self.vehicle_type=vehicle_type\n",
        "    self.cost=cost\n",
        "    self.premium_amount=premium_amount\n",
        "  def display_vehicle_details(self):\n",
        "    print(\"vehicle_id:\",self.vehicle_id)\n",
        "    print(\"vehicle_type:\",self.vehicle_type)\n",
        "    print(\"cost:\",self.cost)\n",
        "    print(\"premium_amount:\",self.premium_amount)\n",
        "  def calculate_premium(self):\n",
        "    if self.vehicle_type==\"two wheeler\":\n",
        "      self.premium_amount=self.cost*2/100\n",
        "    else:\n",
        "      self.premium_amount=self.cost*6/100\n",
        "vehicle1=Vehicle(123,\"two wheeler\",1000000,0)\n",
        "vehicle2=Vehicle(124,\"four wheeler\",2000000,0)\n",
        "vehicle1.calculate_premium()\n",
        "vehicle2.calculate_premium()\n",
        "vehicle1.display_vehicle_details()\n",
        "vehicle2.display_vehicle_details()\n",
        "\n"
      ],
      "metadata": {
        "id": "Mb22Ahni0bvL",
        "colab": {
          "base_uri": "https://localhost:8080/"
        },
        "outputId": "62b591ed-23c9-47d0-d436-a76da5c4838a"
      },
      "execution_count": null,
      "outputs": [
        {
          "output_type": "stream",
          "name": "stdout",
          "text": [
            "vehicle_id: 123\n",
            "vehicle_type: two wheeler\n",
            "cost: 1000000\n",
            "premium_amount: 20000.0\n",
            "vehicle_id: 124\n",
            "vehicle_type: four wheeler\n",
            "cost: 2000000\n",
            "premium_amount: 120000.0\n"
          ]
        }
      ]
    },
    {
      "cell_type": "code",
      "source": [
        "class Instructor:\n",
        "  def __init__(self,name,technology_skill,experience,avg_feedback):\n",
        "    self.name=name\n",
        "    self.technology_skill=technology_skill\n",
        "    self.experience=experience\n",
        "    self.avg_feedback=avg_feedback\n",
        "  def check_eligibility(self):\n",
        "    if self.experience>3 and self.avg_feedback>=4.5:\n",
        "      print(\"eligible\")\n",
        "    else:\n",
        "      print(\"not eligible\")\n",
        "  def allocate_course(self,technology):\n",
        "    if technology in self.technology_skill:\n",
        "      print(\"allocated\")\n",
        "    else:\n",
        "      print(\"not allocated\")\n",
        "\n",
        "instructor1=Instructor(\"jack\",\"java\",4,4.8)\n",
        "instructor1.check_eligibility()\n",
        "instructor1.allocate_course(\"python\")\n",
        "instructor1.allocate_course(\"java\")"
      ],
      "metadata": {
        "colab": {
          "base_uri": "https://localhost:8080/"
        },
        "id": "drne0H9JpVOR",
        "outputId": "a4cca436-0586-4d6d-f042-0102038db050"
      },
      "execution_count": null,
      "outputs": [
        {
          "output_type": "stream",
          "name": "stdout",
          "text": [
            "eligible\n",
            "not allocated\n",
            "allocated\n"
          ]
        }
      ]
    },
    {
      "cell_type": "code",
      "source": [
        "class Student:\n",
        "  def __init__(self,name,age,marks,course_id,fees):\n",
        "    self.__name=None\n",
        "    self.__age=None\n",
        "    self.__marks=None\n",
        "    self.course_id=None\n",
        "    self.fees=None\n",
        "  def display_details(self):\n",
        "    print(self.get_name())\n",
        "    print(self.get_age())\n",
        "    print(self.get_marks())\n",
        "  def set_name(self,name):\n",
        "    self.__name=name\n",
        "  def set_age(self,age):\n",
        "    self.__age=age\n",
        "  def set_marks(self,marks):\n",
        "    self.__marks=marks\n",
        "  def get_name(self):\n",
        "    return self.__name\n",
        "  def get_age(self):\n",
        "    return self.__age\n",
        "  def get_marks(self):\n",
        "    return self.__marks\n",
        "  def validate_marks(self):\n",
        "    if self.__marks<0 or self.__marks>100:\n",
        "      return False\n",
        "    else:\n",
        "      return True\n",
        "\n",
        "  def validate_age(self):\n",
        "    if self.__age>20:\n",
        "      return True\n",
        "    else:\n",
        "      return False\n",
        "\n",
        "  def check_qualification(self):\n",
        "    if self.validate_age() and self.validate_marks():\n",
        "      if self.__marks>=65:\n",
        "        return True\n",
        "      else:\n",
        "        return False\n",
        "    else:\n",
        "      return False\n",
        "  def choose_course(self,course_id,fees):\n",
        "    if self.course_id==1001\n",
        "      self.fees=25575.0\n",
        "      if self.marks>85:\n",
        "        total_fees=self.fees*25/100\n",
        "        return True\n",
        "    else:\n",
        "        self.f\n",
        "\n",
        "      print(\"qualified\")\n",
        "    else:\n",
        "      print(\"not qualified\")\n",
        "\n",
        "student1=Student(\"jack\",22,65)\n",
        "print(student1.check_qualification())\n",
        "print(student1.display_details())\n"
      ],
      "metadata": {
        "colab": {
          "base_uri": "https://localhost:8080/"
        },
        "id": "Th6cJbPHtvXD",
        "outputId": "b49b5f60-30b3-425f-bd9d-86ba32b64d90"
      },
      "execution_count": null,
      "outputs": [
        {
          "output_type": "stream",
          "name": "stdout",
          "text": [
            "True\n",
            "jack\n",
            "22\n",
            "None\n"
          ]
        }
      ]
    },
    {
      "cell_type": "markdown",
      "source": [
        "day8"
      ],
      "metadata": {
        "id": "xGHLwIp8RHYD"
      }
    },
    {
      "cell_type": "code",
      "source": [
        "class Customer:\n",
        "  def __init__(self,name,age,phone_no,address):\n",
        "    self.name=name\n",
        "    self.age=age\n",
        "    self.phone_no=phone_no\n",
        "    self.address=address\n",
        "  def view_details(self):\n",
        "    print(self.name,self.age,self.phone_no)\n",
        "    print(self.address.door_no,self.address.street,self.address.pincode)\n",
        "  def update_details(self,add):\n",
        "    self.address=add\n",
        "class Address:\n",
        "  def __init__(self,door_no,street,pincode):\n",
        "    self.door_no=door_no\n",
        "    self.street=street\n",
        "    self.pincode=pincode\n",
        "  def update_adress(self):\n",
        "    pass\n",
        "add1=Address(123,\"5th lane\",56001)\n",
        "add2=Address(567,\"6th lane\",82006)\n",
        "cus1=Customer(\"jack\",24,1234,add1)\n",
        "cus1.view_details()\n",
        "cus1.update_details(add2)\n",
        "cus1.view_details()"
      ],
      "metadata": {
        "id": "BQiSajmS8Esy",
        "colab": {
          "base_uri": "https://localhost:8080/"
        },
        "outputId": "9af82aed-c622-4db9-89a3-6438e1a3af6e"
      },
      "execution_count": null,
      "outputs": [
        {
          "output_type": "stream",
          "name": "stdout",
          "text": [
            "jack 24 1234\n",
            "123 5th lane 56001\n",
            "jack 24 1234\n",
            "567 6th lane 82006\n"
          ]
        }
      ]
    },
    {
      "cell_type": "code",
      "source": [
        "class Customer:\n",
        "  def __init__(self,name,age,phone_no,address):\n",
        "    self.name=name\n",
        "    self.age=age\n",
        "    self.phone_no=phone_no\n",
        "    self.address=address\n",
        "  def view_details(self):\n",
        "    print(self.name,self.age,self.phone_no)\n",
        "    print(self.address.get_door_no(),self.address.get_street(),self.address.get_pincode())\n",
        "  def update_details(self,add):\n",
        "    self.address=add\n",
        "class Address:\n",
        "  def __init__(self,door_no,street,pincode):\n",
        "    self.__door_no=door_no\n",
        "    self.__street=street\n",
        "    self.__pincode=pincode\n",
        "  def update_adress(self):\n",
        "    pass\n",
        "  def set_door_no(self,door_no):\n",
        "    self.__door_no=door_no\n",
        "  def set_street(self,street):\n",
        "    self.__street=street\n",
        "  def set_pincode(self,pincode):\n",
        "    self.__pincode=pincode\n",
        "  def get_door_no(self):\n",
        "    return self.__door_no\n",
        "  def get_street(self):\n",
        "    return self.__street\n",
        "  def get_pincode(self):\n",
        "    return self.__pincode\n",
        "add1=Address(123,\"5th lane\",56001)\n",
        "\n",
        "cus1=Customer(\"jack\",24,1234,add1)\n",
        "cus1.view_details()\n",
        "\n"
      ],
      "metadata": {
        "colab": {
          "base_uri": "https://localhost:8080/"
        },
        "id": "UOfN-waROvu8",
        "outputId": "b3631ff7-f5ba-49db-c3cd-7e12c52e8d82"
      },
      "execution_count": null,
      "outputs": [
        {
          "output_type": "stream",
          "name": "stdout",
          "text": [
            "jack 24 1234\n",
            "123 5th lane 56001\n"
          ]
        }
      ]
    },
    {
      "cell_type": "code",
      "source": [
        "class Customer:\n",
        "  def __init__(self,name,age,phone_no):\n",
        "    self.name=name\n",
        "    self.age=age\n",
        "    self.phone_no=phone_no\n",
        "  def purchase(self,payment):\n",
        "    if payment.method==\"card\":\n",
        "      print(\"paying by card\")\n",
        "    elif payment.method==\"e_wallet\":\n",
        "      print(\"paying by e_wallet\")\n",
        "    else:\n",
        "      print(\"paying by cash\")\n",
        "class Payment:\n",
        "  def __init__(self,method):\n",
        "    self.method=method\n",
        "payment1=Payment(\"card\")\n",
        "c=Customer(\"jack\",23,1234)\n",
        "c.purchase(payment1)"
      ],
      "metadata": {
        "colab": {
          "base_uri": "https://localhost:8080/"
        },
        "id": "tCDkgP29R5OB",
        "outputId": "2996e3e0-243a-4480-f37e-95437f9e44da"
      },
      "execution_count": null,
      "outputs": [
        {
          "output_type": "stream",
          "name": "stdout",
          "text": [
            "paying by card\n"
          ]
        }
      ]
    },
    {
      "cell_type": "code",
      "source": [
        "class Customer:\n",
        "  def __init__(self,name,cust_type,bill):\n",
        "    self.name=name\n",
        "    self.cust_type=cust_type\n",
        "    self.bill=bill\n",
        "  def calculate_bill(self):\n",
        "    tax1=Tax(self.cust_type)\n",
        "    final_bill=self.bill*tax1.tax_details(self.cust_type)\n",
        "    return final_bill\n",
        "class Tax:\n",
        "  def __init__(self,cust_type):\n",
        "    self.cust_type=cust_type\n",
        "  def tax_details(self,cust_type):\n",
        "    if (cust_type==\"student\"):\n",
        "      return 5\n",
        "    else:\n",
        "      return 10\n",
        "c=Customer(\"jack\",\"student\",1000)\n",
        "print(c.calculate_bill())\n"
      ],
      "metadata": {
        "colab": {
          "base_uri": "https://localhost:8080/"
        },
        "id": "eiqk1fZZVMxt",
        "outputId": "1285bf8e-d6c6-4043-99d9-36b4f850193c"
      },
      "execution_count": null,
      "outputs": [
        {
          "output_type": "stream",
          "name": "stdout",
          "text": [
            "5000\n"
          ]
        }
      ]
    },
    {
      "cell_type": "code",
      "source": [
        "class Parrot:\n",
        "    __counter = 7001\n",
        "\n",
        "    def __init__(self, name, color):\n",
        "        self.__name = name\n",
        "        self.__color = color\n",
        "        Parrot.__counter += 1\n",
        "        self.__unique_number = Parrot.__counter\n",
        "\n",
        "    def get_name(self):\n",
        "        return self.__name\n",
        "\n",
        "    def get_color(self):\n",
        "        return self.__color\n",
        "\n",
        "    def get_unique_number(self):\n",
        "        return self.__unique_number\n",
        "\n",
        "    def display_details(self):\n",
        "        print(f\"Name: {self.get_name()}, Color: {self.get_color()}, Unique Number: {self.get_unique_number()}\")\n",
        "\n",
        "parrot1 = Parrot(\"Polly\", \"Green\")\n",
        "parrot2 = Parrot(\"Tolly\", \"Black\")\n",
        "parrots=[parrot1,parrot2]\n",
        "for parrot in parrots:\n",
        "    parrot.display_details()\n",
        "#parrot1.display_details()\n",
        "#parrot2.display_details()"
      ],
      "metadata": {
        "colab": {
          "base_uri": "https://localhost:8080/"
        },
        "id": "TVxCpZUF640E",
        "outputId": "8d2f723a-7e72-4877-a949-8b87ba6ec3f7"
      },
      "execution_count": null,
      "outputs": [
        {
          "output_type": "stream",
          "name": "stdout",
          "text": [
            "Name: Polly, Color: Green, Unique Number: 7002\n",
            "Name: Tolly, Color: Black, Unique Number: 7003\n"
          ]
        }
      ]
    },
    {
      "cell_type": "code",
      "source": [
        "class Customer:\n",
        "    def __init__(self,phone_no,name,age):\n",
        "        self.phone_no=phone_no\n",
        "        self.name=name\n",
        "        self.age=age\n",
        "        self.list_of_calls=None\n",
        "\n",
        "class CallDetail:\n",
        "    def __init__(self,phone_no,called_no,duration):\n",
        "        self.phone_no=phone_no\n",
        "        self.called_no=called_no\n",
        "        self.duration=duration\n",
        "\n",
        "class Util:\n",
        "    def __init__(self):\n",
        "        self.list_of_customer_calldetail_objects=[]\n",
        "    def parse_customer(self,list_of_customers,list_of_calls):\n",
        "      self.list_of_customer_calldetail_objects=[]\n",
        "      for customer in list_of_customers:\n",
        "        customer.list_of_calls=[]\n",
        "        for call in list_of_calls:\n",
        "          if customer.phone_no==call.phone_no:\n",
        "            customer.list_of_calls.append(call)\n",
        "        self.list_of_customer_calldetail_objects.append([customer.phone_no,customer.name,customer.age])\n",
        "      print(self.list_of_customer_calldetail_objects)\n",
        "cust1=Customer(9900009901,'cust1',23)\n",
        "cust2=Customer(9900009902,'cust2',24)\n",
        "cust3=Customer(9900009903,'cust3',25)\n",
        "list_of_customers=[cust1,cust2,cust3]\n",
        "\n",
        "call1=CallDetail(9900009901,8800123401,5)\n",
        "call2=CallDetail(9900009903,8800123402,10)\n",
        "call3=CallDetail(9900009902,8800123403,2)\n",
        "call4=CallDetail(9900009901,8800123404,8)\n",
        "call5=CallDetail(9900009901,8800123405,7)\n",
        "call6=CallDetail(9900009903,8800123406,9)\n",
        "call7=CallDetail(9900009903,8800123407,4)\n",
        "list_of_calls=[call1,call2,call3,call4,call5,call6,call7]\n",
        "\n",
        "Util().parse_customer(list_of_customers, list_of_calls)\n"
      ],
      "metadata": {
        "colab": {
          "base_uri": "https://localhost:8080/"
        },
        "id": "goyV1InBbC78",
        "outputId": "7fda95f4-2205-4947-cff9-011507d8b19f"
      },
      "execution_count": null,
      "outputs": [
        {
          "output_type": "stream",
          "name": "stdout",
          "text": [
            "[[9900009901, 'cust1', 23], [9900009902, 'cust2', 24], [9900009903, 'cust3', 25]]\n"
          ]
        }
      ]
    },
    {
      "cell_type": "markdown",
      "source": [
        "day9"
      ],
      "metadata": {
        "id": "r4dizhUzSqQy"
      }
    },
    {
      "cell_type": "code",
      "source": [],
      "metadata": {
        "id": "znzYTGYiSs6T"
      },
      "execution_count": null,
      "outputs": []
    },
    {
      "cell_type": "code",
      "source": [
        "class Phone:\n",
        "  def __init__(self,price,brand,camera):\n",
        "    self.price=price\n",
        "    self.brand=brand\n",
        "    self.camera=camera\n",
        "  def buy(self):\n",
        "    print(\"buying phone\")\n",
        "  def return_phone(self):\n",
        "    print(\"returning phone\")\n",
        "class Featuredphone(Phone):\n",
        "  pass\n",
        "class SmartPhone(Phone):\n",
        "  def __init__(self,price,brand,camera,os,ram):\n",
        "    super().__init__(price,brand,camera)\n",
        "    self.os=os\n",
        "    self.ram=ram\n",
        "    print(\"inside the constructor\")\n",
        "  def buy(self):\n",
        "    print(\"buying feature phone\")\n",
        "\n",
        "s=SmartPhone(\"50000\",\"iphone\",\"20p\",\"android\",8)\n",
        "print(s.os)\n",
        "print(s.brand)\n",
        "\n"
      ],
      "metadata": {
        "id": "0olJeqswHpis",
        "colab": {
          "base_uri": "https://localhost:8080/"
        },
        "outputId": "c53635a8-28e1-4fa7-d03f-013b82e53c28"
      },
      "execution_count": null,
      "outputs": [
        {
          "output_type": "stream",
          "name": "stdout",
          "text": [
            "inside the constructor\n",
            "android\n",
            "iphone\n"
          ]
        }
      ]
    },
    {
      "cell_type": "code",
      "source": [],
      "metadata": {
        "id": "e6W_EOqATY16"
      },
      "execution_count": null,
      "outputs": []
    },
    {
      "cell_type": "code",
      "source": [
        "class Phone:\n",
        "  def __init__(self,price,brand,camera):\n",
        "    self.price=price\n",
        "    self.brand=brand\n",
        "    self.camera=camera\n",
        "  def buy(self):\n",
        "    print(\"buying phone\")\n",
        "  def return_phone(self):\n",
        "    print(\"returning phone\")\n",
        "class Featuredphone(Phone):\n",
        "  pass\n",
        "class SmartPhone(Phone):\n",
        "\n",
        "  def buy(self):\n",
        "    print(\"buying feature phone\")\n",
        "    super().buy()\n",
        "\n",
        "s=SmartPhone(50000,\"android\",8)\n",
        "s.buy()\n",
        "\n"
      ],
      "metadata": {
        "colab": {
          "base_uri": "https://localhost:8080/"
        },
        "outputId": "46f0f27c-91a5-4bb9-de6a-603b8215330e",
        "id": "sn-c90sATZac"
      },
      "execution_count": null,
      "outputs": [
        {
          "output_type": "stream",
          "name": "stdout",
          "text": [
            "buying feature phone\n",
            "buying phone\n"
          ]
        }
      ]
    },
    {
      "cell_type": "code",
      "source": [],
      "metadata": {
        "id": "nERtQkyDVUGV"
      },
      "execution_count": null,
      "outputs": []
    },
    {
      "cell_type": "code",
      "source": [
        "\n",
        "class Phone:\n",
        "  def __init__(self,price,brand,camera):\n",
        "    self.price=price\n",
        "    self.brand=brand\n",
        "    self.camera=camera\n",
        "  def buy(self):\n",
        "    print(\"buying phone\")\n",
        "  def return_phone(self):\n",
        "    print(\"returning phone\")\n",
        "class Product:\n",
        "  def buy(self):\n",
        "    print(\"product buy method\")\n",
        "class SmartPhone(Product,Phone):\n",
        "  pass\n",
        "\n",
        "s=SmartPhone(50000,\"android\",8)\n",
        "s.buy()\n",
        "\n",
        "\n"
      ],
      "metadata": {
        "colab": {
          "base_uri": "https://localhost:8080/"
        },
        "outputId": "211a5385-2bce-4220-8c9b-8f2c86c38f79",
        "id": "K_SKafY2VY5i"
      },
      "execution_count": null,
      "outputs": [
        {
          "output_type": "stream",
          "name": "stdout",
          "text": [
            "product buy method\n"
          ]
        }
      ]
    },
    {
      "cell_type": "code",
      "source": [
        "import re\n",
        "count=0\n",
        "matcher=re.finditer(\"python\",\"python is a prog and python is High level\")\n",
        "for match in matcher:\n",
        "    count+=1\n",
        "    print(match.start(),\"...\",match.end(),\"...\",match.group())\n",
        "    print(\"The number of occurrences: \",count)"
      ],
      "metadata": {
        "colab": {
          "base_uri": "https://localhost:8080/"
        },
        "id": "2uFSEQ7Nvgep",
        "outputId": "746669c0-58a0-45f8-b69f-f7ab1d9f8ceb"
      },
      "execution_count": null,
      "outputs": [
        {
          "output_type": "stream",
          "name": "stdout",
          "text": [
            "0 ... 6 ... python\n",
            "The number of occurrences:  1\n",
            "21 ... 27 ... python\n",
            "The number of occurrences:  2\n"
          ]
        }
      ]
    },
    {
      "cell_type": "markdown",
      "source": [
        "1"
      ],
      "metadata": {
        "id": "qZfDfNhj8Nt0"
      }
    },
    {
      "cell_type": "code",
      "source": [
        "def reverse_string(string):\n",
        "  if len(string)==0:\n",
        "    return string\n",
        "  else:\n",
        "    return reverse_string(string[1:])+string[0]\n",
        "print(reverse_string(\"hello\"))"
      ],
      "metadata": {
        "colab": {
          "base_uri": "https://localhost:8080/"
        },
        "id": "Lm0Te0-0vgYs",
        "outputId": "12c7a62e-160b-4b85-fdec-5eb6f4e05b54"
      },
      "execution_count": null,
      "outputs": [
        {
          "output_type": "stream",
          "name": "stdout",
          "text": [
            "olleh\n"
          ]
        }
      ]
    },
    {
      "cell_type": "markdown",
      "source": [
        "2"
      ],
      "metadata": {
        "id": "4tDhw-Ei8PA4"
      }
    },
    {
      "cell_type": "code",
      "source": [
        "a = [10, 20, 4, 45, 99]\n",
        "a.sort(reverse=True)\n",
        "print(a[1])"
      ],
      "metadata": {
        "colab": {
          "base_uri": "https://localhost:8080/"
        },
        "id": "fbEkhlGXzr34",
        "outputId": "46c0925b-b98a-430f-ddb1-92cb56e2cbac"
      },
      "execution_count": null,
      "outputs": [
        {
          "output_type": "stream",
          "name": "stdout",
          "text": [
            "45\n"
          ]
        }
      ]
    },
    {
      "cell_type": "markdown",
      "source": [
        "3"
      ],
      "metadata": {
        "id": "MXi3Cz1Q8Q0w"
      }
    },
    {
      "cell_type": "code",
      "source": [
        "def display(num):\n",
        "  for num in range(1,10):\n",
        "    if(num%3==0 and num%5==0):\n",
        "      print(\"fizzbuzz\")\n",
        "    elif(num%3==0):\n",
        "      print(\"fizz\")\n",
        "    elif(num%5==0):\n",
        "      print(\"buzz\")\n",
        "    else:\n",
        "      print(\"invalid\")\n",
        "message=display(number)"
      ],
      "metadata": {
        "colab": {
          "base_uri": "https://localhost:8080/"
        },
        "id": "LRqCRQKbz01m",
        "outputId": "c7f0dcc6-4914-40a9-d8b9-ec121aa987dd"
      },
      "execution_count": null,
      "outputs": [
        {
          "output_type": "stream",
          "name": "stdout",
          "text": [
            "invalid\n",
            "invalid\n",
            "fizz\n",
            "invalid\n",
            "buzz\n",
            "fizz\n",
            "invalid\n",
            "invalid\n",
            "fizz\n"
          ]
        }
      ]
    },
    {
      "cell_type": "markdown",
      "source": [
        "4"
      ],
      "metadata": {
        "id": "nK-fJPuu8SrQ"
      }
    },
    {
      "cell_type": "code",
      "source": [
        "def check_anagram(s1, s2):\n",
        "    if(sorted(s1)== sorted(s2)):\n",
        "        print(\"The strings are anagrams.\")\n",
        "    else:\n",
        "        print(\"The strings aren't anagrams.\")\n",
        "s1 =\"listen\"\n",
        "s2 =\"silent\"\n",
        "check_anagram(s1, s2)\n"
      ],
      "metadata": {
        "colab": {
          "base_uri": "https://localhost:8080/"
        },
        "id": "u9m9SSK71EPc",
        "outputId": "983692f8-ccb1-4b7b-8e8e-cd63aa304b41"
      },
      "execution_count": null,
      "outputs": [
        {
          "output_type": "stream",
          "name": "stdout",
          "text": [
            "The strings are anagrams.\n"
          ]
        }
      ]
    },
    {
      "cell_type": "markdown",
      "source": [
        "5"
      ],
      "metadata": {
        "id": "8ow8Zziq8UT8"
      }
    },
    {
      "cell_type": "code",
      "source": [
        "def find_prime():\n",
        "  for num in range(1,50):\n",
        "    if num>1:\n",
        "      for i in range(2,num):\n",
        "        if(num%i)==0:\n",
        "          break\n",
        "      else:\n",
        "        print(num)\n",
        "find_prime()"
      ],
      "metadata": {
        "colab": {
          "base_uri": "https://localhost:8080/"
        },
        "id": "7sNCs1LG2IBE",
        "outputId": "afa977ff-4251-42b1-e23c-ebc1ffa3f6e7"
      },
      "execution_count": null,
      "outputs": [
        {
          "output_type": "stream",
          "name": "stdout",
          "text": [
            "2\n",
            "3\n",
            "5\n",
            "7\n",
            "11\n",
            "13\n",
            "17\n",
            "19\n",
            "23\n",
            "29\n",
            "31\n",
            "37\n",
            "41\n",
            "43\n",
            "47\n"
          ]
        }
      ]
    },
    {
      "cell_type": "markdown",
      "source": [
        "6"
      ],
      "metadata": {
        "id": "V8bGiZ-J8WEd"
      }
    },
    {
      "cell_type": "code",
      "source": [
        "def fibonacci(n):\n",
        "  if n<=0:\n",
        "    print(\"incorrect input\")\n",
        "  elif n==1:\n",
        "    return 0\n",
        "  elif n==2:\n",
        "    return 1\n",
        "  else:\n",
        "    return fibonacci(n-1)+fibonacci(n-2)\n",
        "\n",
        "fibonacci(5)"
      ],
      "metadata": {
        "colab": {
          "base_uri": "https://localhost:8080/"
        },
        "id": "BDPGY3vi2Whx",
        "outputId": "e2e0809a-5edd-41bc-c1ce-7c6e4ff38b74"
      },
      "execution_count": null,
      "outputs": [
        {
          "output_type": "execute_result",
          "data": {
            "text/plain": [
              "3"
            ]
          },
          "metadata": {},
          "execution_count": 29
        }
      ]
    },
    {
      "cell_type": "markdown",
      "source": [
        "7"
      ],
      "metadata": {
        "id": "WKaF9zR08X5n"
      }
    },
    {
      "cell_type": "code",
      "source": [
        "def most_frequent_element(list):\n",
        "  counter = 0\n",
        "  num = list[0]\n",
        "  for i in list:\n",
        "    curr_frequency = list.count(i)\n",
        "    if(curr_frequency> counter):\n",
        "      counter = curr_frequency\n",
        "      num = i\n",
        "  return num\n",
        "\n",
        "list = [2, 1, 2, 2, 1, 3]\n",
        "print(most_frequent_element(list))"
      ],
      "metadata": {
        "colab": {
          "base_uri": "https://localhost:8080/"
        },
        "id": "cQf7sWsg2kaA",
        "outputId": "da3effdd-4bff-4d82-89bb-aa87fa790f35"
      },
      "execution_count": null,
      "outputs": [
        {
          "output_type": "stream",
          "name": "stdout",
          "text": [
            "2\n"
          ]
        }
      ]
    },
    {
      "cell_type": "markdown",
      "source": [
        "8"
      ],
      "metadata": {
        "id": "pyJyyttI7wcf"
      }
    },
    {
      "cell_type": "code",
      "source": [
        "def is_armstrong(num):\n",
        "\tnum_str = str(num)\n",
        "\tn = len(num_str)\n",
        "\tsum = 0\n",
        "\tfor digit in num_str:\n",
        "\t\tsum += int(digit)**n\n",
        "\tif sum == num:\n",
        "\t\tprint(\"it is an armstrong number\")\n",
        "\telse:\n",
        "\t\tprint(\"it is not an armstrong number\")\n",
        "num=153\n",
        "is_armstrong(num)\n"
      ],
      "metadata": {
        "colab": {
          "base_uri": "https://localhost:8080/"
        },
        "id": "jtOUm_Zo7Ofe",
        "outputId": "fe8b3d9f-ebfa-4eb6-a4e7-d521cd3d3f05"
      },
      "execution_count": null,
      "outputs": [
        {
          "output_type": "stream",
          "name": "stdout",
          "text": [
            "it is an armstrong number\n"
          ]
        }
      ]
    },
    {
      "cell_type": "markdown",
      "source": [
        "9"
      ],
      "metadata": {
        "id": "-G_UiaeT7uWf"
      }
    },
    {
      "cell_type": "code",
      "source": [
        "def merging_two_sorted_list(list1,list2):\n",
        "  list3=[]\n",
        "  while(list1 and list2):\n",
        "    if(list1[0]<list2[0]):\n",
        "      list3.append(list1.pop(0))\n",
        "    else:\n",
        "      list3.append(list2.pop(0))\n",
        "  return list3\n",
        "list1=[1,3,5,7]\n",
        "list2=[2,4,6,8]\n",
        "print(merging_two_sorted_list(list1,list2))\n"
      ],
      "metadata": {
        "colab": {
          "base_uri": "https://localhost:8080/"
        },
        "id": "3QHFawB344J_",
        "outputId": "feb33f78-1c6d-4c9b-875e-49df0632300d"
      },
      "execution_count": null,
      "outputs": [
        {
          "output_type": "stream",
          "name": "stdout",
          "text": [
            "[1, 2, 3, 4, 5, 6, 7]\n"
          ]
        }
      ]
    },
    {
      "cell_type": "markdown",
      "source": [
        "10"
      ],
      "metadata": {
        "id": "_uYz2IzI7rrp"
      }
    },
    {
      "cell_type": "code",
      "source": [
        "def longest_word(string1):\n",
        "  longest_word=\"\"\n",
        "  for word in string1.split():\n",
        "    if len(word)>len(longest_word):\n",
        "      longest_word=word\n",
        "  return longest_word\n",
        "string1=\"hello everyone\"\n",
        "print(longest_word(string1))"
      ],
      "metadata": {
        "colab": {
          "base_uri": "https://localhost:8080/"
        },
        "id": "QfdQ9hzW5SAt",
        "outputId": "5e16cb24-5871-43f6-afaa-9ad69566a7aa"
      },
      "execution_count": null,
      "outputs": [
        {
          "output_type": "stream",
          "name": "stdout",
          "text": [
            "everyone\n"
          ]
        }
      ]
    },
    {
      "cell_type": "code",
      "source": [
        "def prime_number():\n",
        "  a=int(input(\"enter your range1\"))\n",
        "  b=int(input(\"enter your range2\"))\n",
        "  for num in range(a,b):\n",
        "    if num >1:\n",
        "      for i in range(2,num):\n",
        "        if (num%2)==0:\n",
        "          break\n",
        "      else:\n",
        "          print(num)\n",
        "prime_number()"
      ],
      "metadata": {
        "colab": {
          "base_uri": "https://localhost:8080/"
        },
        "id": "rOjya55_RUDj",
        "outputId": "ea400bb8-5cfe-4164-be84-5c96bec44e01"
      },
      "execution_count": null,
      "outputs": [
        {
          "output_type": "stream",
          "name": "stdout",
          "text": [
            "enter your range11\n",
            "enter your range210\n",
            "2\n",
            "3\n",
            "5\n",
            "7\n",
            "9\n"
          ]
        }
      ]
    }
  ]
}